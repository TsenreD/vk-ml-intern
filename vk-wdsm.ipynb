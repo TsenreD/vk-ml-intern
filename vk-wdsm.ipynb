{
 "metadata": {
  "kernelspec": {
   "language": "python",
   "display_name": "Python 3",
   "name": "python3"
  },
  "language_info": {
   "name": "python",
   "version": "3.10.13",
   "mimetype": "text/x-python",
   "codemirror_mode": {
    "name": "ipython",
    "version": 3
   },
   "pygments_lexer": "ipython3",
   "nbconvert_exporter": "python",
   "file_extension": ".py"
  },
  "kaggle": {
   "accelerator": "gpu",
   "dataSources": [
    {
     "sourceId": 8260196,
     "sourceType": "datasetVersion",
     "datasetId": 4902558
    },
    {
     "sourceId": 41764,
     "sourceType": "modelInstanceVersion",
     "isSourceIdPinned": true,
     "modelInstanceId": 35113
    }
   ],
   "dockerImageVersionId": 30698,
   "isInternetEnabled": true,
   "language": "python",
   "sourceType": "notebook",
   "isGpuEnabled": true
  }
 },
 "nbformat_minor": 4,
 "nbformat": 4,
 "cells": [
  {
   "cell_type": "code",
   "source": [
    "import pandas as pd\n",
    "import numpy as np\n",
    "import pyarrow as pa\n",
    "\n",
    "import pyarrow.csv as csv"
   ],
   "metadata": {
    "_uuid": "8f2839f25d086af736a60e9eeb907d3b93b6e0e5",
    "_cell_guid": "b1076dfc-b9ad-4769-8c92-a6c4dae69d19",
    "execution": {
     "iopub.status.busy": "2024-04-30T17:50:16.606560Z",
     "iopub.execute_input": "2024-04-30T17:50:16.607264Z",
     "iopub.status.idle": "2024-04-30T17:50:17.311216Z",
     "shell.execute_reply.started": "2024-04-30T17:50:16.607231Z",
     "shell.execute_reply": "2024-04-30T17:50:17.310380Z"
    },
    "trusted": true
   },
   "execution_count": 1,
   "outputs": []
  },
  {
   "cell_type": "code",
   "source": [
    "DATA_DIR = '/kaggle/input/wisdom/'"
   ],
   "metadata": {
    "execution": {
     "iopub.status.busy": "2024-04-30T17:50:17.312772Z",
     "iopub.execute_input": "2024-04-30T17:50:17.313210Z",
     "iopub.status.idle": "2024-04-30T17:50:17.317095Z",
     "shell.execute_reply.started": "2024-04-30T17:50:17.313182Z",
     "shell.execute_reply": "2024-04-30T17:50:17.316119Z"
    },
    "trusted": true
   },
   "execution_count": 2,
   "outputs": []
  },
  {
   "cell_type": "code",
   "source": [
    "train_df = csv.read_csv(DATA_DIR + \"train.csv\").to_pandas()\n",
    "#test_df = csv.read_csv(DATA_DIR + \"test.csv\").to_pandas()"
   ],
   "metadata": {
    "execution": {
     "iopub.status.busy": "2024-04-30T17:50:17.318318Z",
     "iopub.execute_input": "2024-04-30T17:50:17.318905Z",
     "iopub.status.idle": "2024-04-30T17:50:29.143345Z",
     "shell.execute_reply.started": "2024-04-30T17:50:17.318871Z",
     "shell.execute_reply": "2024-04-30T17:50:29.142517Z"
    },
    "trusted": true
   },
   "execution_count": 3,
   "outputs": []
  },
  {
   "cell_type": "code",
   "source": [
    "members_df = csv.read_csv(DATA_DIR + \"members.csv\").to_pandas()\n",
    "songs_df = csv.read_csv(DATA_DIR + \"songs.csv\").to_pandas()\n",
    "songs_extra_df = csv.read_csv(DATA_DIR + \"song_extra_info.csv\").to_pandas()"
   ],
   "metadata": {
    "execution": {
     "iopub.status.busy": "2024-04-30T17:50:29.145891Z",
     "iopub.execute_input": "2024-04-30T17:50:29.146296Z",
     "iopub.status.idle": "2024-04-30T17:50:38.322016Z",
     "shell.execute_reply.started": "2024-04-30T17:50:29.146263Z",
     "shell.execute_reply": "2024-04-30T17:50:38.321199Z"
    },
    "trusted": true
   },
   "execution_count": 4,
   "outputs": []
  },
  {
   "cell_type": "markdown",
   "source": [
    "# Data Exploration"
   ],
   "metadata": {}
  },
  {
   "cell_type": "code",
   "source": [
    "train_df.shape"
   ],
   "metadata": {
    "execution": {
     "iopub.status.busy": "2024-04-30T17:50:38.323192Z",
     "iopub.execute_input": "2024-04-30T17:50:38.323492Z",
     "iopub.status.idle": "2024-04-30T17:50:38.330315Z",
     "shell.execute_reply.started": "2024-04-30T17:50:38.323466Z",
     "shell.execute_reply": "2024-04-30T17:50:38.329327Z"
    },
    "trusted": true
   },
   "execution_count": 5,
   "outputs": [
    {
     "execution_count": 5,
     "output_type": "execute_result",
     "data": {
      "text/plain": "(7377418, 6)"
     },
     "metadata": {}
    }
   ]
  },
  {
   "cell_type": "code",
   "source": [
    "train_df.head()"
   ],
   "metadata": {
    "execution": {
     "iopub.status.busy": "2024-04-30T17:50:38.331659Z",
     "iopub.execute_input": "2024-04-30T17:50:38.331984Z",
     "iopub.status.idle": "2024-04-30T17:50:38.351866Z",
     "shell.execute_reply.started": "2024-04-30T17:50:38.331952Z",
     "shell.execute_reply": "2024-04-30T17:50:38.351056Z"
    },
    "trusted": true
   },
   "execution_count": 6,
   "outputs": [
    {
     "execution_count": 6,
     "output_type": "execute_result",
     "data": {
      "text/plain": "                                           msno  \\\n0  FGtllVqz18RPiwJj/edr2gV78zirAiY/9SmYvia+kCg=   \n1  Xumu+NIjS6QYVxDS4/t3SawvJ7viT9hPKXmf0RtLNx8=   \n2  Xumu+NIjS6QYVxDS4/t3SawvJ7viT9hPKXmf0RtLNx8=   \n3  Xumu+NIjS6QYVxDS4/t3SawvJ7viT9hPKXmf0RtLNx8=   \n4  FGtllVqz18RPiwJj/edr2gV78zirAiY/9SmYvia+kCg=   \n\n                                        song_id source_system_tab  \\\n0  BBzumQNXUHKdEBOB7mAJuzok+IJA1c2Ryg/yzTF6tik=           explore   \n1  bhp/MpSNoqoxOIB+/l8WPqu6jldth4DIpCm3ayXnJqM=        my library   \n2  JNWfrrC7zNN7BdMpsISKa4Mw+xVJYNnxXh3/Epw7QgY=        my library   \n3  2A87tzfnJTSWqD7gIZHisolhe4DMdzkbd6LzO1KHjNs=        my library   \n4  3qm6XTZ6MOCU11x8FIVbAGH5l5uMkT3/ZalWG1oo2Gc=           explore   \n\n    source_screen_name      source_type  target  \n0              Explore  online-playlist       1  \n1  Local playlist more   local-playlist       1  \n2  Local playlist more   local-playlist       1  \n3  Local playlist more   local-playlist       1  \n4              Explore  online-playlist       1  ",
      "text/html": "<div>\n<style scoped>\n    .dataframe tbody tr th:only-of-type {\n        vertical-align: middle;\n    }\n\n    .dataframe tbody tr th {\n        vertical-align: top;\n    }\n\n    .dataframe thead th {\n        text-align: right;\n    }\n</style>\n<table border=\"1\" class=\"dataframe\">\n  <thead>\n    <tr style=\"text-align: right;\">\n      <th></th>\n      <th>msno</th>\n      <th>song_id</th>\n      <th>source_system_tab</th>\n      <th>source_screen_name</th>\n      <th>source_type</th>\n      <th>target</th>\n    </tr>\n  </thead>\n  <tbody>\n    <tr>\n      <th>0</th>\n      <td>FGtllVqz18RPiwJj/edr2gV78zirAiY/9SmYvia+kCg=</td>\n      <td>BBzumQNXUHKdEBOB7mAJuzok+IJA1c2Ryg/yzTF6tik=</td>\n      <td>explore</td>\n      <td>Explore</td>\n      <td>online-playlist</td>\n      <td>1</td>\n    </tr>\n    <tr>\n      <th>1</th>\n      <td>Xumu+NIjS6QYVxDS4/t3SawvJ7viT9hPKXmf0RtLNx8=</td>\n      <td>bhp/MpSNoqoxOIB+/l8WPqu6jldth4DIpCm3ayXnJqM=</td>\n      <td>my library</td>\n      <td>Local playlist more</td>\n      <td>local-playlist</td>\n      <td>1</td>\n    </tr>\n    <tr>\n      <th>2</th>\n      <td>Xumu+NIjS6QYVxDS4/t3SawvJ7viT9hPKXmf0RtLNx8=</td>\n      <td>JNWfrrC7zNN7BdMpsISKa4Mw+xVJYNnxXh3/Epw7QgY=</td>\n      <td>my library</td>\n      <td>Local playlist more</td>\n      <td>local-playlist</td>\n      <td>1</td>\n    </tr>\n    <tr>\n      <th>3</th>\n      <td>Xumu+NIjS6QYVxDS4/t3SawvJ7viT9hPKXmf0RtLNx8=</td>\n      <td>2A87tzfnJTSWqD7gIZHisolhe4DMdzkbd6LzO1KHjNs=</td>\n      <td>my library</td>\n      <td>Local playlist more</td>\n      <td>local-playlist</td>\n      <td>1</td>\n    </tr>\n    <tr>\n      <th>4</th>\n      <td>FGtllVqz18RPiwJj/edr2gV78zirAiY/9SmYvia+kCg=</td>\n      <td>3qm6XTZ6MOCU11x8FIVbAGH5l5uMkT3/ZalWG1oo2Gc=</td>\n      <td>explore</td>\n      <td>Explore</td>\n      <td>online-playlist</td>\n      <td>1</td>\n    </tr>\n  </tbody>\n</table>\n</div>"
     },
     "metadata": {}
    }
   ]
  },
  {
   "cell_type": "code",
   "source": [
    "train_df.dtypes"
   ],
   "metadata": {
    "execution": {
     "iopub.status.busy": "2024-04-30T17:50:38.352755Z",
     "iopub.execute_input": "2024-04-30T17:50:38.353056Z",
     "iopub.status.idle": "2024-04-30T17:50:38.360031Z",
     "shell.execute_reply.started": "2024-04-30T17:50:38.353024Z",
     "shell.execute_reply": "2024-04-30T17:50:38.359048Z"
    },
    "trusted": true
   },
   "execution_count": 7,
   "outputs": [
    {
     "execution_count": 7,
     "output_type": "execute_result",
     "data": {
      "text/plain": "msno                  object\nsong_id               object\nsource_system_tab     object\nsource_screen_name    object\nsource_type           object\ntarget                 int64\ndtype: object"
     },
     "metadata": {}
    }
   ]
  },
  {
   "cell_type": "markdown",
   "source": [
    "msno is user_id, source features represent the mobile app."
   ],
   "metadata": {}
  },
  {
   "cell_type": "code",
   "source": [
    "print(f'unique users: {train_df.msno.unique().shape[0]}')"
   ],
   "metadata": {
    "execution": {
     "iopub.status.busy": "2024-04-30T17:50:38.361234Z",
     "iopub.execute_input": "2024-04-30T17:50:38.361499Z",
     "iopub.status.idle": "2024-04-30T17:50:39.255050Z",
     "shell.execute_reply.started": "2024-04-30T17:50:38.361474Z",
     "shell.execute_reply": "2024-04-30T17:50:39.254072Z"
    },
    "trusted": true
   },
   "execution_count": 8,
   "outputs": [
    {
     "name": "stdout",
     "text": "unique users: 30755\n",
     "output_type": "stream"
    }
   ]
  },
  {
   "cell_type": "code",
   "source": [
    "train_song_counts = train_df.song_id.value_counts().mean()\n",
    "print(f'average number of song relistens: {train_song_counts}')"
   ],
   "metadata": {
    "execution": {
     "iopub.status.busy": "2024-04-30T17:50:39.256389Z",
     "iopub.execute_input": "2024-04-30T17:50:39.256709Z",
     "iopub.status.idle": "2024-04-30T17:50:40.488827Z",
     "shell.execute_reply.started": "2024-04-30T17:50:39.256682Z",
     "shell.execute_reply": "2024-04-30T17:50:40.487857Z"
    },
    "trusted": true
   },
   "execution_count": 9,
   "outputs": [
    {
     "name": "stdout",
     "text": "average number of song relistens: 20.494763394320575\n",
     "output_type": "stream"
    }
   ]
  },
  {
   "cell_type": "code",
   "source": [
    "train_df.target.value_counts()"
   ],
   "metadata": {
    "execution": {
     "iopub.status.busy": "2024-04-30T17:50:40.493600Z",
     "iopub.execute_input": "2024-04-30T17:50:40.493967Z",
     "iopub.status.idle": "2024-04-30T17:50:40.560623Z",
     "shell.execute_reply.started": "2024-04-30T17:50:40.493941Z",
     "shell.execute_reply": "2024-04-30T17:50:40.559551Z"
    },
    "trusted": true
   },
   "execution_count": 10,
   "outputs": [
    {
     "execution_count": 10,
     "output_type": "execute_result",
     "data": {
      "text/plain": "target\n1    3714656\n0    3662762\nName: count, dtype: int64"
     },
     "metadata": {}
    }
   ]
  },
  {
   "cell_type": "markdown",
   "source": [
    "target=1 means there are recurring listening event(s) triggered within a month after the user’s very first observable listening event.\n",
    "\n",
    "Balanced distrubition of positive and negative interactions, this is unusual but nice."
   ],
   "metadata": {}
  },
  {
   "cell_type": "code",
   "source": [
    "train_df.source_system_tab.value_counts()"
   ],
   "metadata": {
    "execution": {
     "iopub.status.busy": "2024-04-30T17:50:40.562215Z",
     "iopub.execute_input": "2024-04-30T17:50:40.562670Z",
     "iopub.status.idle": "2024-04-30T17:50:41.419934Z",
     "shell.execute_reply.started": "2024-04-30T17:50:40.562636Z",
     "shell.execute_reply": "2024-04-30T17:50:41.418867Z"
    },
    "trusted": true
   },
   "execution_count": 11,
   "outputs": [
    {
     "execution_count": 11,
     "output_type": "execute_result",
     "data": {
      "text/plain": "source_system_tab\nmy library      3684730\ndiscover        2179252\nsearch           623286\nradio            476701\nlisten with      212266\nexplore          167949\n                  18371\nnull               6478\nnotification       6185\nsettings           2200\nName: count, dtype: int64"
     },
     "metadata": {}
    }
   ]
  },
  {
   "cell_type": "code",
   "source": [
    "train_source = train_df[['source_system_tab', 'target']]\n",
    "dummies_source = pd.get_dummies(train_source)\n",
    "corr = dummies_source.corr()\n",
    "sorted_corrs = corr['target'].sort_values(ascending=False)\n",
    "sorted_corrs"
   ],
   "metadata": {
    "execution": {
     "iopub.status.busy": "2024-04-30T17:50:41.421184Z",
     "iopub.execute_input": "2024-04-30T17:50:41.421473Z",
     "iopub.status.idle": "2024-04-30T17:50:45.006839Z",
     "shell.execute_reply.started": "2024-04-30T17:50:41.421450Z",
     "shell.execute_reply": "2024-04-30T17:50:45.005902Z"
    },
    "trusted": true
   },
   "execution_count": 12,
   "outputs": [
    {
     "execution_count": 12,
     "output_type": "execute_result",
     "data": {
      "text/plain": "target                            1.000000\nsource_system_tab_my library      0.232039\nsource_system_tab_                0.003388\nsource_system_tab_settings        0.003019\nsource_system_tab_null           -0.004144\nsource_system_tab_notification   -0.007271\nsource_system_tab_explore        -0.024840\nsource_system_tab_search         -0.049915\nsource_system_tab_listen with    -0.060910\nsource_system_tab_discover       -0.113633\nsource_system_tab_radio          -0.147638\nName: target, dtype: float64"
     },
     "metadata": {}
    }
   ]
  },
  {
   "cell_type": "markdown",
   "source": [
    "As expected, users are more likely to listen again to tracks from their library and may dislike songs from discover or radio"
   ],
   "metadata": {}
  },
  {
   "cell_type": "code",
   "source": [
    "check_train = train_df.select_dtypes(include='object')\n",
    "missing_percent = 100 * check_train[check_train == ''].notna().sum() / train_df.shape[0]\n",
    "missing_percent"
   ],
   "metadata": {
    "execution": {
     "iopub.status.busy": "2024-04-30T17:50:45.007971Z",
     "iopub.execute_input": "2024-04-30T17:50:45.008279Z",
     "iopub.status.idle": "2024-04-30T17:50:53.813426Z",
     "shell.execute_reply.started": "2024-04-30T17:50:45.008254Z",
     "shell.execute_reply": "2024-04-30T17:50:53.812400Z"
    },
    "trusted": true
   },
   "execution_count": 13,
   "outputs": [
    {
     "execution_count": 13,
     "output_type": "execute_result",
     "data": {
      "text/plain": "msno                  0.000000\nsong_id               0.000000\nsource_system_tab     0.249017\nsource_screen_name    5.622618\nsource_type           0.291959\ndtype: float64"
     },
     "metadata": {}
    }
   ]
  },
  {
   "cell_type": "markdown",
   "source": [
    "So for source features empty ('') value represents missing data."
   ],
   "metadata": {}
  },
  {
   "cell_type": "code",
   "source": [
    "songs_df.head()"
   ],
   "metadata": {
    "execution": {
     "iopub.status.busy": "2024-04-30T17:50:53.814705Z",
     "iopub.execute_input": "2024-04-30T17:50:53.815090Z",
     "iopub.status.idle": "2024-04-30T17:50:53.828251Z",
     "shell.execute_reply.started": "2024-04-30T17:50:53.815054Z",
     "shell.execute_reply": "2024-04-30T17:50:53.827199Z"
    },
    "trusted": true
   },
   "execution_count": 14,
   "outputs": [
    {
     "execution_count": 14,
     "output_type": "execute_result",
     "data": {
      "text/plain": "                                        song_id  song_length genre_ids  \\\n0  CXoTN1eb7AI+DntdU1vbcwGRV4SCIDxZu+YD8JP8r4E=       247640       465   \n1  o0kFgae9QtnYgRkVPqLJwa05zIhRlUjfF7O1tDw0ZDU=       197328       444   \n2  DwVvVurfpuz+XPuFvucclVQEyPqcpUkHR0ne1RQzPs0=       231781       465   \n3  dKMBWoZyScdxSkihKG+Vf47nc18N9q4m58+b4e7dSSE=       273554       465   \n4  W3bqWd3T+VeHFzHAUfARgW9AvVRaF4N5Yzm4Mr6Eo/o=       140329       726   \n\n        artist_name                            composer     lyricist  language  \n0  張信哲 (Jeff Chang)                                  董貞          何啟弘       3.0  \n1         BLACKPINK  TEDDY|  FUTURE BOUNCE|  Bekuh BOOM        TEDDY      31.0  \n2      SUPER JUNIOR                                                       31.0  \n3             S.H.E                                 湯小康          徐世珍       3.0  \n4              貴族精選                         Traditional  Traditional      52.0  ",
      "text/html": "<div>\n<style scoped>\n    .dataframe tbody tr th:only-of-type {\n        vertical-align: middle;\n    }\n\n    .dataframe tbody tr th {\n        vertical-align: top;\n    }\n\n    .dataframe thead th {\n        text-align: right;\n    }\n</style>\n<table border=\"1\" class=\"dataframe\">\n  <thead>\n    <tr style=\"text-align: right;\">\n      <th></th>\n      <th>song_id</th>\n      <th>song_length</th>\n      <th>genre_ids</th>\n      <th>artist_name</th>\n      <th>composer</th>\n      <th>lyricist</th>\n      <th>language</th>\n    </tr>\n  </thead>\n  <tbody>\n    <tr>\n      <th>0</th>\n      <td>CXoTN1eb7AI+DntdU1vbcwGRV4SCIDxZu+YD8JP8r4E=</td>\n      <td>247640</td>\n      <td>465</td>\n      <td>張信哲 (Jeff Chang)</td>\n      <td>董貞</td>\n      <td>何啟弘</td>\n      <td>3.0</td>\n    </tr>\n    <tr>\n      <th>1</th>\n      <td>o0kFgae9QtnYgRkVPqLJwa05zIhRlUjfF7O1tDw0ZDU=</td>\n      <td>197328</td>\n      <td>444</td>\n      <td>BLACKPINK</td>\n      <td>TEDDY|  FUTURE BOUNCE|  Bekuh BOOM</td>\n      <td>TEDDY</td>\n      <td>31.0</td>\n    </tr>\n    <tr>\n      <th>2</th>\n      <td>DwVvVurfpuz+XPuFvucclVQEyPqcpUkHR0ne1RQzPs0=</td>\n      <td>231781</td>\n      <td>465</td>\n      <td>SUPER JUNIOR</td>\n      <td></td>\n      <td></td>\n      <td>31.0</td>\n    </tr>\n    <tr>\n      <th>3</th>\n      <td>dKMBWoZyScdxSkihKG+Vf47nc18N9q4m58+b4e7dSSE=</td>\n      <td>273554</td>\n      <td>465</td>\n      <td>S.H.E</td>\n      <td>湯小康</td>\n      <td>徐世珍</td>\n      <td>3.0</td>\n    </tr>\n    <tr>\n      <th>4</th>\n      <td>W3bqWd3T+VeHFzHAUfARgW9AvVRaF4N5Yzm4Mr6Eo/o=</td>\n      <td>140329</td>\n      <td>726</td>\n      <td>貴族精選</td>\n      <td>Traditional</td>\n      <td>Traditional</td>\n      <td>52.0</td>\n    </tr>\n  </tbody>\n</table>\n</div>"
     },
     "metadata": {}
    }
   ]
  },
  {
   "cell_type": "code",
   "source": [
    "# songs_df['artist_name'][songs_df['artist_name'] == 'Linkin Park']"
   ],
   "metadata": {
    "execution": {
     "iopub.status.busy": "2024-04-30T17:50:53.829536Z",
     "iopub.execute_input": "2024-04-30T17:50:53.829822Z",
     "iopub.status.idle": "2024-04-30T17:50:53.837059Z",
     "shell.execute_reply.started": "2024-04-30T17:50:53.829798Z",
     "shell.execute_reply": "2024-04-30T17:50:53.836208Z"
    },
    "trusted": true
   },
   "execution_count": 15,
   "outputs": []
  },
  {
   "cell_type": "code",
   "source": [
    "check_train = songs_df.select_dtypes(include='object')\n",
    "missing_percent = 100 * check_train[check_train == ''].notna().sum() / songs_df.shape[0]\n",
    "missing_percent"
   ],
   "metadata": {
    "execution": {
     "iopub.status.busy": "2024-04-30T17:50:53.838303Z",
     "iopub.execute_input": "2024-04-30T17:50:53.838584Z",
     "iopub.status.idle": "2024-04-30T17:50:56.966309Z",
     "shell.execute_reply.started": "2024-04-30T17:50:53.838560Z",
     "shell.execute_reply": "2024-04-30T17:50:56.965252Z"
    },
    "trusted": true
   },
   "execution_count": 16,
   "outputs": [
    {
     "execution_count": 16,
     "output_type": "execute_result",
     "data": {
      "text/plain": "song_id         0.000000\ngenre_ids       4.098558\nartist_name     0.000000\ncomposer       46.654996\nlyricist       84.711321\ndtype: float64"
     },
     "metadata": {}
    }
   ]
  },
  {
   "cell_type": "markdown",
   "source": [
    "Too many missing values in lyricist column, will drop it later, for composer and genre may add \"unknown\" value."
   ],
   "metadata": {}
  },
  {
   "cell_type": "code",
   "source": [
    "songs_df['song_id'].unique().shape[0], songs_df.shape[0]"
   ],
   "metadata": {
    "execution": {
     "iopub.status.busy": "2024-04-30T17:50:56.967581Z",
     "iopub.execute_input": "2024-04-30T17:50:56.967959Z",
     "iopub.status.idle": "2024-04-30T17:50:58.261222Z",
     "shell.execute_reply.started": "2024-04-30T17:50:56.967925Z",
     "shell.execute_reply": "2024-04-30T17:50:58.260204Z"
    },
    "trusted": true
   },
   "execution_count": 17,
   "outputs": [
    {
     "execution_count": 17,
     "output_type": "execute_result",
     "data": {
      "text/plain": "(2296320, 2296320)"
     },
     "metadata": {}
    }
   ]
  },
  {
   "cell_type": "markdown",
   "source": [
    "No duplicated entries, so in total we have 2.3m unique songs.\n",
    "\n",
    "**Since number of songs (items) >> number of users, user-based approach is better.**"
   ],
   "metadata": {}
  },
  {
   "cell_type": "code",
   "source": [
    "from collections import defaultdict\n",
    "\n",
    "unique_genres = set()\n",
    "genre_pop = defaultdict(lambda: 0)\n",
    "for genres in songs_df['genre_ids']:\n",
    "    lst = genres.split('|')\n",
    "    unique_genres.update(lst)\n",
    "    for genre in lst:\n",
    "        genre_pop[genre] +=1\n",
    "print(f'Unique genres: {len(unique_genres)}')"
   ],
   "metadata": {
    "execution": {
     "iopub.status.busy": "2024-04-30T17:50:58.262594Z",
     "iopub.execute_input": "2024-04-30T17:50:58.262890Z",
     "iopub.status.idle": "2024-04-30T17:51:00.350979Z",
     "shell.execute_reply.started": "2024-04-30T17:50:58.262865Z",
     "shell.execute_reply": "2024-04-30T17:51:00.349934Z"
    },
    "trusted": true
   },
   "execution_count": 18,
   "outputs": [
    {
     "name": "stdout",
     "text": "Unique genres: 192\n",
     "output_type": "stream"
    }
   ]
  },
  {
   "cell_type": "code",
   "source": [
    "genres_sorted_by_pop = pd.Series(genre_pop).sort_values(ascending=False)[:25]\n",
    "pop_genres = genres_sorted_by_pop.index.astype(str)\n",
    "pop_genres"
   ],
   "metadata": {
    "execution": {
     "iopub.status.busy": "2024-04-30T17:51:00.352307Z",
     "iopub.execute_input": "2024-04-30T17:51:00.352624Z",
     "iopub.status.idle": "2024-04-30T17:51:00.361076Z",
     "shell.execute_reply.started": "2024-04-30T17:51:00.352597Z",
     "shell.execute_reply": "2024-04-30T17:51:00.360052Z"
    },
    "trusted": true
   },
   "execution_count": 19,
   "outputs": [
    {
     "execution_count": 19,
     "output_type": "execute_result",
     "data": {
      "text/plain": "Index(['465', '958', '1609', '2022', '2122', '1259', '', '921', '1152', '786',\n       '139', '359', '940', '726', '1011', '947', '388', '1572', '1616', '275',\n       '1955', '109', '873', '691', '125'],\n      dtype='object')"
     },
     "metadata": {}
    }
   ]
  },
  {
   "cell_type": "markdown",
   "source": [
    "**I will be using 25 of the most popular genres as features. It is important to convert them to string and treat them as categorical feature, because there is no ordering on them.**"
   ],
   "metadata": {}
  },
  {
   "cell_type": "code",
   "source": [
    "songs_extra_df.head()"
   ],
   "metadata": {
    "execution": {
     "iopub.status.busy": "2024-04-30T17:51:00.362384Z",
     "iopub.execute_input": "2024-04-30T17:51:00.362688Z",
     "iopub.status.idle": "2024-04-30T17:51:00.377759Z",
     "shell.execute_reply.started": "2024-04-30T17:51:00.362664Z",
     "shell.execute_reply": "2024-04-30T17:51:00.376932Z"
    },
    "trusted": true
   },
   "execution_count": 20,
   "outputs": [
    {
     "execution_count": 20,
     "output_type": "execute_result",
     "data": {
      "text/plain": "                                        song_id             name          isrc\n0  LP7pLJoJFBvyuUwvu+oLzjT+bI+UeBPURCecJsX1jjs=               我們  TWUM71200043\n1  ClazTFnk6r0Bnuie44bocdNMM3rdlrq0bCGAsGUWcHE=  Let Me Love You  QMZSY1600015\n2  u2ja/bZE3zhCGxvbbOB3zOoUjx27u40cf5g09UXMoKQ=              原諒我  TWA530887303\n3  92Fqsy0+p6+RHe2EoLKjHahORHR1Kq1TBJoClW9v+Ts=          Classic  USSM11301446\n4  0QFmz/+rJy1Q56C1DuYqT9hKKqi5TUqx0sN0IwvoHrw=             愛投羅網  TWA471306001",
      "text/html": "<div>\n<style scoped>\n    .dataframe tbody tr th:only-of-type {\n        vertical-align: middle;\n    }\n\n    .dataframe tbody tr th {\n        vertical-align: top;\n    }\n\n    .dataframe thead th {\n        text-align: right;\n    }\n</style>\n<table border=\"1\" class=\"dataframe\">\n  <thead>\n    <tr style=\"text-align: right;\">\n      <th></th>\n      <th>song_id</th>\n      <th>name</th>\n      <th>isrc</th>\n    </tr>\n  </thead>\n  <tbody>\n    <tr>\n      <th>0</th>\n      <td>LP7pLJoJFBvyuUwvu+oLzjT+bI+UeBPURCecJsX1jjs=</td>\n      <td>我們</td>\n      <td>TWUM71200043</td>\n    </tr>\n    <tr>\n      <th>1</th>\n      <td>ClazTFnk6r0Bnuie44bocdNMM3rdlrq0bCGAsGUWcHE=</td>\n      <td>Let Me Love You</td>\n      <td>QMZSY1600015</td>\n    </tr>\n    <tr>\n      <th>2</th>\n      <td>u2ja/bZE3zhCGxvbbOB3zOoUjx27u40cf5g09UXMoKQ=</td>\n      <td>原諒我</td>\n      <td>TWA530887303</td>\n    </tr>\n    <tr>\n      <th>3</th>\n      <td>92Fqsy0+p6+RHe2EoLKjHahORHR1Kq1TBJoClW9v+Ts=</td>\n      <td>Classic</td>\n      <td>USSM11301446</td>\n    </tr>\n    <tr>\n      <th>4</th>\n      <td>0QFmz/+rJy1Q56C1DuYqT9hKKqi5TUqx0sN0IwvoHrw=</td>\n      <td>愛投羅網</td>\n      <td>TWA471306001</td>\n    </tr>\n  </tbody>\n</table>\n</div>"
     },
     "metadata": {}
    }
   ]
  },
  {
   "cell_type": "markdown",
   "source": [
    "Doesn't seem to be very useful, just identifiers for song_id"
   ],
   "metadata": {}
  },
  {
   "cell_type": "markdown",
   "source": [
    "The following is a nice visualization of correlation between number of song plays and probability of relisten, courtesy of [this notebook](https://www.kaggle.com/code/kunstmord/exploring-the-songs)"
   ],
   "metadata": {}
  },
  {
   "cell_type": "code",
   "source": [
    "listen_log = train_df[['msno','song_id','target']].merge(songs_df,on='song_id')\n",
    "\n",
    "listen_log_groupby = listen_log[['song_id', 'target']].groupby(['song_id']).agg(['mean',\n",
    "                                                                                 'count'])\n",
    "listen_log_groupby.reset_index(inplace=True)\n",
    "listen_log_groupby.columns = list(map(''.join, listen_log_groupby.columns.values))\n",
    "listen_log_groupby.columns = ['song_id', 'repeat_play_chance', 'plays']  #rename columns\n",
    "\n",
    "song_data = listen_log_groupby.merge(songs_df, on='song_id') # merge song data with computed values\n",
    "\n",
    "song_data['repeat_events'] = song_data['repeat_play_chance'] * song_data['plays']"
   ],
   "metadata": {
    "execution": {
     "iopub.status.busy": "2024-04-30T17:51:00.378762Z",
     "iopub.execute_input": "2024-04-30T17:51:00.379049Z",
     "iopub.status.idle": "2024-04-30T17:51:12.460592Z",
     "shell.execute_reply.started": "2024-04-30T17:51:00.379001Z",
     "shell.execute_reply": "2024-04-30T17:51:12.459754Z"
    },
    "trusted": true
   },
   "execution_count": 21,
   "outputs": []
  },
  {
   "cell_type": "code",
   "source": [
    "x_plays = []\n",
    "y_repeat_chance = []\n",
    "\n",
    "for i in range(1,song_data['plays'].max()+1):\n",
    "    plays_i = song_data[song_data['plays']==i]\n",
    "    count = plays_i['plays'].sum()\n",
    "    if count > 0:\n",
    "        x_plays.append(i)\n",
    "        y_repeat_chance.append(plays_i['repeat_events'].sum() / count)"
   ],
   "metadata": {
    "execution": {
     "iopub.status.busy": "2024-04-30T17:51:12.461687Z",
     "iopub.execute_input": "2024-04-30T17:51:12.461944Z",
     "iopub.status.idle": "2024-04-30T17:51:23.199781Z",
     "shell.execute_reply.started": "2024-04-30T17:51:12.461921Z",
     "shell.execute_reply": "2024-04-30T17:51:23.198724Z"
    },
    "trusted": true
   },
   "execution_count": 22,
   "outputs": []
  },
  {
   "cell_type": "code",
   "source": [
    "import matplotlib.pyplot as plt\n",
    "\n",
    "f,axarray = plt.subplots(1,1,figsize=(15,10))\n",
    "plt.xlabel('Number of song plays')\n",
    "plt.ylabel('Chance of repeat listens')\n",
    "plt.plot(x_plays, y_repeat_chance)"
   ],
   "metadata": {
    "execution": {
     "iopub.status.busy": "2024-04-30T17:51:23.201082Z",
     "iopub.execute_input": "2024-04-30T17:51:23.201389Z",
     "iopub.status.idle": "2024-04-30T17:51:23.602856Z",
     "shell.execute_reply.started": "2024-04-30T17:51:23.201363Z",
     "shell.execute_reply": "2024-04-30T17:51:23.601886Z"
    },
    "trusted": true
   },
   "execution_count": 23,
   "outputs": [
    {
     "execution_count": 23,
     "output_type": "execute_result",
     "data": {
      "text/plain": "[<matplotlib.lines.Line2D at 0x7f0b34d46a40>]"
     },
     "metadata": {}
    },
    {
     "output_type": "display_data",
     "data": {
      "text/plain": "<Figure size 1500x1000 with 1 Axes>",
      "image/png": "[encoded data removed]"
     },
     "metadata": {}
    }
   ]
  },
  {
   "cell_type": "code",
   "source": [
    "members_df.head()"
   ],
   "metadata": {
    "execution": {
     "iopub.status.busy": "2024-04-30T17:51:23.604135Z",
     "iopub.execute_input": "2024-04-30T17:51:23.604501Z",
     "iopub.status.idle": "2024-04-30T17:51:23.616524Z",
     "shell.execute_reply.started": "2024-04-30T17:51:23.604470Z",
     "shell.execute_reply": "2024-04-30T17:51:23.615494Z"
    },
    "trusted": true
   },
   "execution_count": 24,
   "outputs": [
    {
     "execution_count": 24,
     "output_type": "execute_result",
     "data": {
      "text/plain": "                                           msno  city  bd gender  \\\n0  XQxgAYj3klVKjR3oxPPXYYFp4soD4TuBghkhMTD4oTw=     1   0          \n1  UizsfmJb9mV54qE9hCYyU07Va97c0lCRLEQX3ae+ztM=     1   0          \n2  D8nEhsIOBSoE6VthTaqDX8U6lqjJ7dLdr72mOyLya2A=     1   0          \n3  mCuD+tZ1hERA/o5GPqk38e041J8ZsBaLcu7nGoIIvhI=     1   0          \n4  q4HRBfVSssAFS9iRfxWrohxuk9kCYMKjHOEagUMV6rQ=     1   0          \n\n   registered_via  registration_init_time  expiration_date  \n0               7                20110820         20170920  \n1               7                20150628         20170622  \n2               4                20160411         20170712  \n3               9                20150906         20150907  \n4               4                20170126         20170613  ",
      "text/html": "<div>\n<style scoped>\n    .dataframe tbody tr th:only-of-type {\n        vertical-align: middle;\n    }\n\n    .dataframe tbody tr th {\n        vertical-align: top;\n    }\n\n    .dataframe thead th {\n        text-align: right;\n    }\n</style>\n<table border=\"1\" class=\"dataframe\">\n  <thead>\n    <tr style=\"text-align: right;\">\n      <th></th>\n      <th>msno</th>\n      <th>city</th>\n      <th>bd</th>\n      <th>gender</th>\n      <th>registered_via</th>\n      <th>registration_init_time</th>\n      <th>expiration_date</th>\n    </tr>\n  </thead>\n  <tbody>\n    <tr>\n      <th>0</th>\n      <td>XQxgAYj3klVKjR3oxPPXYYFp4soD4TuBghkhMTD4oTw=</td>\n      <td>1</td>\n      <td>0</td>\n      <td></td>\n      <td>7</td>\n      <td>20110820</td>\n      <td>20170920</td>\n    </tr>\n    <tr>\n      <th>1</th>\n      <td>UizsfmJb9mV54qE9hCYyU07Va97c0lCRLEQX3ae+ztM=</td>\n      <td>1</td>\n      <td>0</td>\n      <td></td>\n      <td>7</td>\n      <td>20150628</td>\n      <td>20170622</td>\n    </tr>\n    <tr>\n      <th>2</th>\n      <td>D8nEhsIOBSoE6VthTaqDX8U6lqjJ7dLdr72mOyLya2A=</td>\n      <td>1</td>\n      <td>0</td>\n      <td></td>\n      <td>4</td>\n      <td>20160411</td>\n      <td>20170712</td>\n    </tr>\n    <tr>\n      <th>3</th>\n      <td>mCuD+tZ1hERA/o5GPqk38e041J8ZsBaLcu7nGoIIvhI=</td>\n      <td>1</td>\n      <td>0</td>\n      <td></td>\n      <td>9</td>\n      <td>20150906</td>\n      <td>20150907</td>\n    </tr>\n    <tr>\n      <th>4</th>\n      <td>q4HRBfVSssAFS9iRfxWrohxuk9kCYMKjHOEagUMV6rQ=</td>\n      <td>1</td>\n      <td>0</td>\n      <td></td>\n      <td>4</td>\n      <td>20170126</td>\n      <td>20170613</td>\n    </tr>\n  </tbody>\n</table>\n</div>"
     },
     "metadata": {}
    }
   ]
  },
  {
   "cell_type": "code",
   "source": [
    "outliers = (members_df['bd'] > 90) | (members_df['bd'] < 0)\n",
    "# 0 is unspecified\n",
    "members_df['bd'][outliers].shape[0]"
   ],
   "metadata": {
    "execution": {
     "iopub.status.busy": "2024-04-30T17:51:23.617707Z",
     "iopub.execute_input": "2024-04-30T17:51:23.618028Z",
     "iopub.status.idle": "2024-04-30T17:51:23.629807Z",
     "shell.execute_reply.started": "2024-04-30T17:51:23.617984Z",
     "shell.execute_reply": "2024-04-30T17:51:23.628907Z"
    },
    "trusted": true
   },
   "execution_count": 25,
   "outputs": [
    {
     "execution_count": 25,
     "output_type": "execute_result",
     "data": {
      "text/plain": "28"
     },
     "metadata": {}
    }
   ]
  },
  {
   "cell_type": "markdown",
   "source": [
    "For now I will treat those values as unspecified (0)"
   ],
   "metadata": {}
  },
  {
   "cell_type": "code",
   "source": [
    "members_df['bd'][~outliers].hist(log=True)"
   ],
   "metadata": {
    "execution": {
     "iopub.status.busy": "2024-04-30T17:51:23.630994Z",
     "iopub.execute_input": "2024-04-30T17:51:23.631319Z",
     "iopub.status.idle": "2024-04-30T17:51:24.309363Z",
     "shell.execute_reply.started": "2024-04-30T17:51:23.631293Z",
     "shell.execute_reply": "2024-04-30T17:51:24.308462Z"
    },
    "trusted": true
   },
   "execution_count": 26,
   "outputs": [
    {
     "execution_count": 26,
     "output_type": "execute_result",
     "data": {
      "text/plain": "<Axes: >"
     },
     "metadata": {}
    },
    {
     "output_type": "display_data",
     "data": {
      "text/plain": "<Figure size 640x480 with 1 Axes>",
      "image/png": "[encoded data removed]"
     },
     "metadata": {}
    }
   ]
  },
  {
   "cell_type": "markdown",
   "source": [
    "Lognormal distribution, if we don't consider unspecified values"
   ],
   "metadata": {}
  },
  {
   "cell_type": "code",
   "source": [
    "(members_df['gender']).value_counts()"
   ],
   "metadata": {
    "execution": {
     "iopub.status.busy": "2024-04-30T17:51:24.310411Z",
     "iopub.execute_input": "2024-04-30T17:51:24.310678Z",
     "iopub.status.idle": "2024-04-30T17:51:24.322202Z",
     "shell.execute_reply.started": "2024-04-30T17:51:24.310653Z",
     "shell.execute_reply": "2024-04-30T17:51:24.321253Z"
    },
    "trusted": true
   },
   "execution_count": 27,
   "outputs": [
    {
     "execution_count": 27,
     "output_type": "execute_result",
     "data": {
      "text/plain": "gender\n          19902\nmale       7405\nfemale     7096\nName: count, dtype: int64"
     },
     "metadata": {}
    }
   ]
  },
  {
   "cell_type": "code",
   "source": [
    "(members_df['city']).hist(log=True)"
   ],
   "metadata": {
    "execution": {
     "iopub.status.busy": "2024-04-30T17:51:24.331400Z",
     "iopub.execute_input": "2024-04-30T17:51:24.331733Z",
     "iopub.status.idle": "2024-04-30T17:51:24.684726Z",
     "shell.execute_reply.started": "2024-04-30T17:51:24.331709Z",
     "shell.execute_reply": "2024-04-30T17:51:24.683511Z"
    },
    "trusted": true
   },
   "execution_count": 28,
   "outputs": [
    {
     "execution_count": 28,
     "output_type": "execute_result",
     "data": {
      "text/plain": "<Axes: >"
     },
     "metadata": {}
    },
    {
     "output_type": "display_data",
     "data": {
      "text/plain": "<Figure size 640x480 with 1 Axes>",
      "image/png": "[encoded data removed]"
     },
     "metadata": {}
    }
   ]
  },
  {
   "cell_type": "markdown",
   "source": [
    "Multiple peaks, most users are from 5 cities."
   ],
   "metadata": {}
  },
  {
   "cell_type": "markdown",
   "source": [
    "# Data Preprocessing"
   ],
   "metadata": {}
  },
  {
   "cell_type": "markdown",
   "source": [
    "**Short feature engineering summary is included afterwards**"
   ],
   "metadata": {}
  },
  {
   "cell_type": "markdown",
   "source": [
    "Adding member features"
   ],
   "metadata": {}
  },
  {
   "cell_type": "code",
   "source": [
    "members_df.loc[outliers.values, 'bd'] = 0\n",
    "members_df.loc[members_df.gender =='', 'gender'] = 'unknown'\n",
    "members_df['registration_init_time'] = pd.to_datetime(members_df['registration_init_time'], format='%Y%m%d')\n",
    "members_df['expiration_date'] = pd.to_datetime(members_df['expiration_date'], format='%Y%m%d')\n",
    "members_df['membership_days'] = members_df['expiration_date'].subtract(members_df['registration_init_time']).dt.days.astype(int)\n",
    "members_df.drop(['registration_init_time', 'expiration_date'], axis=1, inplace=True)"
   ],
   "metadata": {
    "execution": {
     "iopub.status.busy": "2024-04-30T17:51:24.685968Z",
     "iopub.execute_input": "2024-04-30T17:51:24.686349Z",
     "iopub.status.idle": "2024-04-30T17:51:24.735045Z",
     "shell.execute_reply.started": "2024-04-30T17:51:24.686318Z",
     "shell.execute_reply": "2024-04-30T17:51:24.733975Z"
    },
    "trusted": true
   },
   "execution_count": 29,
   "outputs": []
  },
  {
   "cell_type": "code",
   "source": [
    "def get_bd_cat(age):\n",
    "    if age == 0:\n",
    "        return \"unknown\"\n",
    "    elif age < 20:\n",
    "        return \"<20\"\n",
    "    elif age < 22:\n",
    "        return \"<22\"\n",
    "    elif age <25:\n",
    "        return \"<25\"\n",
    "    return \">=25\"\n",
    "\n",
    "members_df['bd_cat'] = members_df['bd'].apply(get_bd_cat)\n",
    "members_df.drop(['bd'], axis=1, inplace=True)"
   ],
   "metadata": {
    "execution": {
     "iopub.status.busy": "2024-04-30T17:51:24.736181Z",
     "iopub.execute_input": "2024-04-30T17:51:24.736447Z",
     "iopub.status.idle": "2024-04-30T17:51:24.756064Z",
     "shell.execute_reply.started": "2024-04-30T17:51:24.736424Z",
     "shell.execute_reply": "2024-04-30T17:51:24.755328Z"
    },
    "trusted": true
   },
   "execution_count": 30,
   "outputs": []
  },
  {
   "cell_type": "code",
   "source": [
    "members_df"
   ],
   "metadata": {
    "execution": {
     "iopub.status.busy": "2024-04-30T17:51:24.757020Z",
     "iopub.execute_input": "2024-04-30T17:51:24.757295Z",
     "iopub.status.idle": "2024-04-30T17:51:24.776736Z",
     "shell.execute_reply.started": "2024-04-30T17:51:24.757272Z",
     "shell.execute_reply": "2024-04-30T17:51:24.775808Z"
    },
    "trusted": true
   },
   "execution_count": 31,
   "outputs": [
    {
     "execution_count": 31,
     "output_type": "execute_result",
     "data": {
      "text/plain": "                                               msno  city   gender  \\\n0      XQxgAYj3klVKjR3oxPPXYYFp4soD4TuBghkhMTD4oTw=     1  unknown   \n1      UizsfmJb9mV54qE9hCYyU07Va97c0lCRLEQX3ae+ztM=     1  unknown   \n2      D8nEhsIOBSoE6VthTaqDX8U6lqjJ7dLdr72mOyLya2A=     1  unknown   \n3      mCuD+tZ1hERA/o5GPqk38e041J8ZsBaLcu7nGoIIvhI=     1  unknown   \n4      q4HRBfVSssAFS9iRfxWrohxuk9kCYMKjHOEagUMV6rQ=     1  unknown   \n...                                             ...   ...      ...   \n34398  Wwd/cudKVuLJ3txRVxlg2Zaeliu+LRUfiBmfrnxhRCY=     1  unknown   \n34399  g3JGnJX6Hg50lFbrNWfsHwCUmApIkiv2M8sXOaeXoIQ=     4     male   \n34400  IMaPMJuyN+ip9Vqi+z2XuXbFAP2kbHr+EvvCNkFfj+o=     1  unknown   \n34401  WAnCAJjUty9Stv8yKtV7ZC7PN+ilOy5FX3aIJgGPANM=     1  unknown   \n34402  xH8KpzKGeNNq6dOvy51c/8VzqOiGG+m6vabhsPSDHX4=     1  unknown   \n\n       registered_via  membership_days   bd_cat  \n0                   7             2223  unknown  \n1                   7              725  unknown  \n2                   4              457  unknown  \n3                   9                1  unknown  \n4                   4              138  unknown  \n...               ...              ...      ...  \n34398               7             1399  unknown  \n34399               3              937      <20  \n34400               7             1498  unknown  \n34401               7              701  unknown  \n34402               4                3  unknown  \n\n[34403 rows x 6 columns]",
      "text/html": "<div>\n<style scoped>\n    .dataframe tbody tr th:only-of-type {\n        vertical-align: middle;\n    }\n\n    .dataframe tbody tr th {\n        vertical-align: top;\n    }\n\n    .dataframe thead th {\n        text-align: right;\n    }\n</style>\n<table border=\"1\" class=\"dataframe\">\n  <thead>\n    <tr style=\"text-align: right;\">\n      <th></th>\n      <th>msno</th>\n      <th>city</th>\n      <th>gender</th>\n      <th>registered_via</th>\n      <th>membership_days</th>\n      <th>bd_cat</th>\n    </tr>\n  </thead>\n  <tbody>\n    <tr>\n      <th>0</th>\n      <td>XQxgAYj3klVKjR3oxPPXYYFp4soD4TuBghkhMTD4oTw=</td>\n      <td>1</td>\n      <td>unknown</td>\n      <td>7</td>\n      <td>2223</td>\n      <td>unknown</td>\n    </tr>\n    <tr>\n      <th>1</th>\n      <td>UizsfmJb9mV54qE9hCYyU07Va97c0lCRLEQX3ae+ztM=</td>\n      <td>1</td>\n      <td>unknown</td>\n      <td>7</td>\n      <td>725</td>\n      <td>unknown</td>\n    </tr>\n    <tr>\n      <th>2</th>\n      <td>D8nEhsIOBSoE6VthTaqDX8U6lqjJ7dLdr72mOyLya2A=</td>\n      <td>1</td>\n      <td>unknown</td>\n      <td>4</td>\n      <td>457</td>\n      <td>unknown</td>\n    </tr>\n    <tr>\n      <th>3</th>\n      <td>mCuD+tZ1hERA/o5GPqk38e041J8ZsBaLcu7nGoIIvhI=</td>\n      <td>1</td>\n      <td>unknown</td>\n      <td>9</td>\n      <td>1</td>\n      <td>unknown</td>\n    </tr>\n    <tr>\n      <th>4</th>\n      <td>q4HRBfVSssAFS9iRfxWrohxuk9kCYMKjHOEagUMV6rQ=</td>\n      <td>1</td>\n      <td>unknown</td>\n      <td>4</td>\n      <td>138</td>\n      <td>unknown</td>\n    </tr>\n    <tr>\n      <th>...</th>\n      <td>...</td>\n      <td>...</td>\n      <td>...</td>\n      <td>...</td>\n      <td>...</td>\n      <td>...</td>\n    </tr>\n    <tr>\n      <th>34398</th>\n      <td>Wwd/cudKVuLJ3txRVxlg2Zaeliu+LRUfiBmfrnxhRCY=</td>\n      <td>1</td>\n      <td>unknown</td>\n      <td>7</td>\n      <td>1399</td>\n      <td>unknown</td>\n    </tr>\n    <tr>\n      <th>34399</th>\n      <td>g3JGnJX6Hg50lFbrNWfsHwCUmApIkiv2M8sXOaeXoIQ=</td>\n      <td>4</td>\n      <td>male</td>\n      <td>3</td>\n      <td>937</td>\n      <td>&lt;20</td>\n    </tr>\n    <tr>\n      <th>34400</th>\n      <td>IMaPMJuyN+ip9Vqi+z2XuXbFAP2kbHr+EvvCNkFfj+o=</td>\n      <td>1</td>\n      <td>unknown</td>\n      <td>7</td>\n      <td>1498</td>\n      <td>unknown</td>\n    </tr>\n    <tr>\n      <th>34401</th>\n      <td>WAnCAJjUty9Stv8yKtV7ZC7PN+ilOy5FX3aIJgGPANM=</td>\n      <td>1</td>\n      <td>unknown</td>\n      <td>7</td>\n      <td>701</td>\n      <td>unknown</td>\n    </tr>\n    <tr>\n      <th>34402</th>\n      <td>xH8KpzKGeNNq6dOvy51c/8VzqOiGG+m6vabhsPSDHX4=</td>\n      <td>1</td>\n      <td>unknown</td>\n      <td>4</td>\n      <td>3</td>\n      <td>unknown</td>\n    </tr>\n  </tbody>\n</table>\n<p>34403 rows × 6 columns</p>\n</div>"
     },
     "metadata": {}
    }
   ]
  },
  {
   "cell_type": "code",
   "source": [
    "def get_pop_genre(genre):\n",
    "    if genre in pop_genres:\n",
    "        return \"genre_\" + genre\n",
    "    return \"genre_other\"\n",
    "\n",
    "# Onehot encoding for the most popular genres.\n",
    "songs_df['pop_gids'] = songs_df['genre_ids'].apply(\n",
    "    lambda gids: list(map(get_pop_genre, gids.split('|'))))\n",
    "songs_df = songs_df.join(songs_df.pop_gids.str.join('|').str.get_dummies())"
   ],
   "metadata": {
    "execution": {
     "iopub.status.busy": "2024-04-30T17:51:24.777863Z",
     "iopub.execute_input": "2024-04-30T17:51:24.778142Z",
     "iopub.status.idle": "2024-04-30T17:52:12.599246Z",
     "shell.execute_reply.started": "2024-04-30T17:51:24.778120Z",
     "shell.execute_reply": "2024-04-30T17:52:12.598320Z"
    },
    "trusted": true
   },
   "execution_count": 32,
   "outputs": []
  },
  {
   "cell_type": "code",
   "source": [
    "def add_song_counts(df, train_df): \n",
    "    _dict_count_song_played = {k: v for k, v in train_df['song_id'].value_counts().items()}\n",
    "    \n",
    "    def get_count(s):\n",
    "        try:\n",
    "            return _dict_count_song_played[s]\n",
    "        except KeyError:\n",
    "            return 0\n",
    "    \n",
    "    df['count_song_played'] = df['song_id'].apply(get_count).astype(np.int64)\n",
    "    return df\n",
    "\n",
    "def add_song_features(df, train_df):\n",
    "    def genre_id_count(x):\n",
    "        if x == 'no_genre_id':\n",
    "            return 0\n",
    "        else:\n",
    "            return x.count('|') + 1\n",
    "    \n",
    "    _mean_song_length = np.mean(df['song_length'])\n",
    "    def smaller_song(x):\n",
    "        if x < _mean_song_length:\n",
    "            return 1\n",
    "        return 0\n",
    "    \n",
    "    \n",
    "    df['smaller_song'] = df['song_length'].apply(smaller_song).astype(np.int8)\n",
    "\n",
    "    df['genre_ids'] = df['genre_ids'].fillna('no_genre_id')\n",
    "    df['genre_ids_count'] = df['genre_ids'].apply(genre_id_count).astype(np.int8)\n",
    "    \n",
    "    df = add_song_counts(df, train_df)\n",
    "    \n",
    "    return df"
   ],
   "metadata": {
    "execution": {
     "iopub.status.busy": "2024-04-30T17:52:12.600581Z",
     "iopub.execute_input": "2024-04-30T17:52:12.600882Z",
     "iopub.status.idle": "2024-04-30T17:52:12.611578Z",
     "shell.execute_reply.started": "2024-04-30T17:52:12.600855Z",
     "shell.execute_reply": "2024-04-30T17:52:12.610477Z"
    },
    "trusted": true
   },
   "execution_count": 33,
   "outputs": []
  },
  {
   "cell_type": "markdown",
   "source": [
    "It turns out that some of the songs are not present in songs_df, but since there are <200 total missing values for both train and test, I will be dropping them."
   ],
   "metadata": {}
  },
  {
   "cell_type": "code",
   "source": [
    "def preprocess(df):\n",
    "    df = df.copy()\n",
    "    df = df.merge(songs_df, on='song_id', how='left')\n",
    "    df = df.merge(members_df, on='msno', how='left')\n",
    "    \n",
    "    df = add_song_features(df, train_df)\n",
    "    one_hot_cols = ['source_system_tab', 'source_screen_name', 'source_type', 'gender', 'registered_via', 'bd_cat', 'city', 'language']\n",
    "    df = df.drop(['genre_ids', 'artist_name', 'composer', 'lyricist', 'pop_gids']\n",
    "                                 , axis=1)\n",
    "    df[df.select_dtypes(['object']).columns] = df.select_dtypes(['object']).apply(lambda x: x.astype('category'))\n",
    "    df = pd.get_dummies(df, columns=one_hot_cols)\n",
    "    \n",
    "    return df"
   ],
   "metadata": {
    "execution": {
     "iopub.status.busy": "2024-04-30T17:52:12.612697Z",
     "iopub.execute_input": "2024-04-30T17:52:12.612969Z",
     "iopub.status.idle": "2024-04-30T17:52:12.623979Z",
     "shell.execute_reply.started": "2024-04-30T17:52:12.612945Z",
     "shell.execute_reply": "2024-04-30T17:52:12.622992Z"
    },
    "trusted": true
   },
   "execution_count": 34,
   "outputs": []
  },
  {
   "cell_type": "code",
   "source": [
    "import gc\n",
    "train_df_proc = preprocess(train_df)\n",
    "del songs_df, members_df\n",
    "gc.collect()"
   ],
   "metadata": {
    "execution": {
     "iopub.status.busy": "2024-04-30T17:52:12.625407Z",
     "iopub.execute_input": "2024-04-30T17:52:12.626062Z",
     "iopub.status.idle": "2024-04-30T17:53:07.008061Z",
     "shell.execute_reply.started": "2024-04-30T17:52:12.626026Z",
     "shell.execute_reply": "2024-04-30T17:53:07.007057Z"
    },
    "trusted": true
   },
   "execution_count": 35,
   "outputs": [
    {
     "execution_count": 35,
     "output_type": "execute_result",
     "data": {
      "text/plain": "65"
     },
     "metadata": {}
    }
   ]
  },
  {
   "cell_type": "markdown",
   "source": [
    "**To summarize**\n",
    "\n",
    "*Member*\n",
    "* added membership days feature\n",
    "* split ages into categories (while setting outliers to unknown)\n",
    "\n",
    "*Songs*\n",
    "* added smaller song feature that indicates if song is shorter than average\n",
    "* added genre_ids_count feature, self-explanatory\n",
    "* added song_counts feature, that measures popularity of the song in train data.\n",
    "\n",
    "*Dropped onehots that only appear in test*\n"
   ],
   "metadata": {}
  },
  {
   "cell_type": "code",
   "source": [
    "corr = train_df_proc.sample(frac=0.2).corr(numeric_only=True)\n",
    "sorted_corrs = corr['target'].sort_values(ascending=False)\n",
    "\n",
    "highest_pos_corr = sorted_corrs.head(11) # rank + 10 others\n",
    "highest_neg_corr = sorted_corrs.tail(10).dropna()\n",
    "highest_idxes = np.concatenate([highest_pos_corr.index, highest_neg_corr.index])"
   ],
   "metadata": {
    "execution": {
     "iopub.status.busy": "2024-04-30T17:57:42.360990Z",
     "iopub.execute_input": "2024-04-30T17:57:42.361382Z",
     "iopub.status.idle": "2024-04-30T17:58:34.293093Z",
     "shell.execute_reply.started": "2024-04-30T17:57:42.361353Z",
     "shell.execute_reply": "2024-04-30T17:58:34.292062Z"
    },
    "trusted": true
   },
   "execution_count": 38,
   "outputs": []
  },
  {
   "cell_type": "code",
   "source": [
    "import seaborn as sns\n",
    "import matplotlib.pyplot as plt\n",
    "\n",
    "sns.set_theme(style=\"white\")\n",
    "corr = train_df_proc[highest_idxes].corr()\n",
    "\n",
    "# Generate a mask for the upper triangle\n",
    "mask = np.triu(np.ones_like(corr, dtype=bool))\n",
    "\n",
    "# Set up the matplotlib figure\n",
    "f, ax = plt.subplots(figsize=(11, 9))\n",
    "\n",
    "# Generate a custom diverging colormap\n",
    "cmap = sns.diverging_palette(230, 20, as_cmap=True)\n",
    "\n",
    "# Draw the heatmap with the mask and correct aspect ratio\n",
    "sns.heatmap(corr, mask=mask, cmap=cmap, vmax=.3, center=0,\n",
    "            square=True, linewidths=.5, cbar_kws={\"shrink\": .5})"
   ],
   "metadata": {
    "execution": {
     "iopub.status.busy": "2024-04-30T17:58:34.294993Z",
     "iopub.execute_input": "2024-04-30T17:58:34.295332Z",
     "iopub.status.idle": "2024-04-30T17:58:45.304516Z",
     "shell.execute_reply.started": "2024-04-30T17:58:34.295304Z",
     "shell.execute_reply": "2024-04-30T17:58:45.303226Z"
    },
    "trusted": true
   },
   "execution_count": 39,
   "outputs": [
    {
     "execution_count": 39,
     "output_type": "execute_result",
     "data": {
      "text/plain": "<Axes: >"
     },
     "metadata": {}
    },
    {
     "output_type": "display_data",
     "data": {
      "text/plain": "<Figure size 1100x900 with 2 Axes>",
      "image/png": "[encoded data removed]"
     },
     "metadata": {}
    }
   ]
  },
  {
   "cell_type": "markdown",
   "source": [
    "We can see that my library and discover are heavily negatively correlated, while source types and song plays correlate mildly with target."
   ],
   "metadata": {}
  },
  {
   "cell_type": "markdown",
   "source": [
    "# Model training"
   ],
   "metadata": {}
  },
  {
   "cell_type": "markdown",
   "source": [
    "**I will be using LightGCN model since we have large amounts of data and it is currently one of the better models out there**"
   ],
   "metadata": {}
  },
  {
   "cell_type": "markdown",
   "source": [
    "For tree gradient boosting normalization of train dataset is not needed\n",
    "\n",
    "Same for lightgcn"
   ],
   "metadata": {}
  },
  {
   "cell_type": "code",
   "source": [
    "install = True\n",
    "if install:\n",
    "    !pip install -q pytorch_lightning\n",
    "    !pip install -q torch_geometric"
   ],
   "metadata": {
    "execution": {
     "iopub.status.busy": "2024-04-30T17:58:45.305931Z",
     "iopub.execute_input": "2024-04-30T17:58:45.306301Z",
     "iopub.status.idle": "2024-04-30T17:59:12.358891Z",
     "shell.execute_reply.started": "2024-04-30T17:58:45.306272Z",
     "shell.execute_reply": "2024-04-30T17:59:12.357462Z"
    },
    "trusted": true
   },
   "execution_count": 40,
   "outputs": []
  },
  {
   "cell_type": "code",
   "source": [
    "from collections import namedtuple\n",
    "\n",
    "import pandas as pd\n",
    "import numpy as np\n",
    "\n",
    "import torch\n",
    "import torch.nn as nn\n",
    "import torch.nn.functional as F\n",
    "import torch.utils.data as td\n",
    "\n",
    "import pytorch_lightning as pl\n",
    "\n",
    "import tqdm\n",
    "import json\n",
    "import sklearn.metrics as sm\n",
    "\n",
    "import tensorflow as tf\n",
    "import datetime, os\n",
    "\n",
    "import matplotlib.pyplot as plt\n",
    "import seaborn as sns\n",
    "import torch_geometric.data as pyg_data\n",
    "import torch_geometric.utils as pyg_utils\n",
    "import torch_geometric.nn as pyg_nn\n",
    "import seaborn as sns\n",
    "import shutil\n",
    "\n",
    "from sklearn.model_selection import train_test_split\n",
    "\n",
    "np.random.seed(42)"
   ],
   "metadata": {
    "execution": {
     "iopub.status.busy": "2024-04-30T17:59:12.362193Z",
     "iopub.execute_input": "2024-04-30T17:59:12.362532Z",
     "iopub.status.idle": "2024-04-30T17:59:27.959812Z",
     "shell.execute_reply.started": "2024-04-30T17:59:12.362499Z",
     "shell.execute_reply": "2024-04-30T17:59:27.958981Z"
    },
    "trusted": true
   },
   "execution_count": 41,
   "outputs": [
    {
     "name": "stderr",
     "text": "2024-04-30 17:59:22.053090: E external/local_xla/xla/stream_executor/cuda/cuda_dnn.cc:9261] Unable to register cuDNN factory: Attempting to register factory for plugin cuDNN when one has already been registered\n2024-04-30 17:59:22.053246: E external/local_xla/xla/stream_executor/cuda/cuda_fft.cc:607] Unable to register cuFFT factory: Attempting to register factory for plugin cuFFT when one has already been registered\n2024-04-30 17:59:22.186049: E external/local_xla/xla/stream_executor/cuda/cuda_blas.cc:1515] Unable to register cuBLAS factory: Attempting to register factory for plugin cuBLAS when one has already been registered\n",
     "output_type": "stream"
    }
   ]
  },
  {
   "cell_type": "code",
   "source": [
    "config = {\n",
    "    'NEGATIVE_SAMPLE_WEIGHT': 1,\n",
    "    'MAX_EPOCHS': 5,\n",
    "    'EMBEDDING_DIM': 64,\n",
    "    'NUM_LAYERS': 4,\n",
    "    'NUM_RECOMMENDATIONS': 100,\n",
    "    'CHECKPOINT_PATH': '/kaggle/input/lightgcn-vk/pytorch/1/1/lightgcn-5.ckpt'\n",
    "}"
   ],
   "metadata": {
    "execution": {
     "iopub.status.busy": "2024-04-30T17:59:27.961100Z",
     "iopub.execute_input": "2024-04-30T17:59:27.962240Z",
     "iopub.status.idle": "2024-04-30T17:59:27.967097Z",
     "shell.execute_reply.started": "2024-04-30T17:59:27.962202Z",
     "shell.execute_reply": "2024-04-30T17:59:27.966070Z"
    },
    "trusted": true
   },
   "execution_count": 42,
   "outputs": []
  },
  {
   "cell_type": "code",
   "source": [
    "device = torch.device('cuda' if torch.cuda.is_available() else 'cpu')"
   ],
   "metadata": {
    "execution": {
     "iopub.status.busy": "2024-04-30T17:59:27.968746Z",
     "iopub.execute_input": "2024-04-30T17:59:27.969134Z",
     "iopub.status.idle": "2024-04-30T17:59:28.013184Z",
     "shell.execute_reply.started": "2024-04-30T17:59:27.969100Z",
     "shell.execute_reply": "2024-04-30T17:59:28.011928Z"
    },
    "trusted": true
   },
   "execution_count": 43,
   "outputs": []
  },
  {
   "cell_type": "code",
   "source": [
    "positives = train_df[train_df[\"target\"] == 1].copy()\n",
    "positives.rename(columns={\"msno\": \"user\", \"song_id\": \"track\"}, inplace=True)\n",
    "\n",
    "# Отберем треки, которые прослушали минимум 15 раз.\n",
    "track_counts = positives[\"track\"].value_counts()\n",
    "distinct_tracks = set(track_counts[track_counts >= 15].index.values)\n",
    "data_filt = positives[positives[\"track\"].isin(distinct_tracks)]\n",
    "distinct_users = set(data_filt['user'])\n",
    "\n",
    "print(f\"Взаимодействий: {len(data_filt)}\")\n",
    "print(f\"Уникальных треков: {len(distinct_tracks)}\")\n",
    "print(f\"Уникальных пользователей: {len(distinct_users)}\")"
   ],
   "metadata": {
    "execution": {
     "iopub.status.busy": "2024-04-30T17:59:28.014314Z",
     "iopub.execute_input": "2024-04-30T17:59:28.014606Z",
     "iopub.status.idle": "2024-04-30T17:59:30.411060Z",
     "shell.execute_reply.started": "2024-04-30T17:59:28.014581Z",
     "shell.execute_reply": "2024-04-30T17:59:30.409978Z"
    },
    "trusted": true
   },
   "execution_count": 44,
   "outputs": [
    {
     "name": "stdout",
     "text": "Взаимодействий: 3198026\nУникальных треков: 24017\nУникальных пользователей: 26824\n",
     "output_type": "stream"
    }
   ]
  },
  {
   "cell_type": "markdown",
   "source": [
    "\n",
    "\n",
    "В data_filt содержатся взаимодействия пользователей с треками. При этом, для идентификации треков и пользователей используются UserID, TrackID. Как среди UserID, так и среди TrackID могут иметь место гапы, из-за которых могут возникнуть дыры в таблице эмбеддингов.\n",
    "\n",
    "По этой причине смаппим айдишники на индексы, начинающиеся с 0 и заканчивающиеся максимальным количеством пользователей / треков.\n"
   ],
   "metadata": {}
  },
  {
   "cell_type": "code",
   "source": [
    "data_filt_sorted = data_filt[['user', 'track']].sort_values(by=['user'])\n",
    "\n",
    "track_ids = np.sort(np.unique(data_filt_sorted['track']))\n",
    "user_ids = np.sort(np.unique(data_filt_sorted['user']))\n",
    "\n",
    "track_ix = np.searchsorted(track_ids, data_filt_sorted['track'].values)\n",
    "user_ix = np.searchsorted(user_ids, data_filt_sorted['user'].values)"
   ],
   "metadata": {
    "execution": {
     "iopub.status.busy": "2024-04-30T17:59:30.412273Z",
     "iopub.execute_input": "2024-04-30T17:59:30.412583Z",
     "iopub.status.idle": "2024-04-30T17:59:51.155850Z",
     "shell.execute_reply.started": "2024-04-30T17:59:30.412556Z",
     "shell.execute_reply": "2024-04-30T17:59:51.154977Z"
    },
    "trusted": true
   },
   "execution_count": 45,
   "outputs": []
  },
  {
   "cell_type": "code",
   "source": [
    "NUM_USERS = len(user_ids)\n",
    "NUM_TRACKS = len(track_ids)\n",
    "NUM_NODES = NUM_USERS + NUM_TRACKS\n",
    "\n",
    "# Поскольку модель LightGCN из пакета PyG работает с гомогенными графами (один тип узлов), то\n",
    "#  нам нужно как-то объединить узлы пользователей и треков без коллизий по индексам. Для этого идентификатору\n",
    "#  узла каждого трека добавим сдвиг равный числу пользователей.\n",
    "NODE_LABEL_SHIFT = NUM_USERS\n",
    "\n",
    "print(f\"Уникальных треков: {NUM_TRACKS}\")\n",
    "print(f\"Уникальных пользователей: {NUM_USERS}\")"
   ],
   "metadata": {
    "execution": {
     "iopub.status.busy": "2024-04-30T17:59:51.157065Z",
     "iopub.execute_input": "2024-04-30T17:59:51.157380Z",
     "iopub.status.idle": "2024-04-30T17:59:51.163654Z",
     "shell.execute_reply.started": "2024-04-30T17:59:51.157353Z",
     "shell.execute_reply": "2024-04-30T17:59:51.162645Z"
    },
    "trusted": true
   },
   "execution_count": 46,
   "outputs": [
    {
     "name": "stdout",
     "text": "Уникальных треков: 24017\nУникальных пользователей: 26824\n",
     "output_type": "stream"
    }
   ]
  },
  {
   "cell_type": "code",
   "source": [
    "assert (user_ids[user_ix] == data_filt_sorted['user'].values).min()\n",
    "assert (track_ids[track_ix] == data_filt_sorted['track'].values).min()"
   ],
   "metadata": {
    "execution": {
     "iopub.status.busy": "2024-04-30T17:59:51.167379Z",
     "iopub.execute_input": "2024-04-30T17:59:51.167689Z",
     "iopub.status.idle": "2024-04-30T17:59:51.550306Z",
     "shell.execute_reply.started": "2024-04-30T17:59:51.167651Z",
     "shell.execute_reply": "2024-04-30T17:59:51.549382Z"
    },
    "trusted": true
   },
   "execution_count": 47,
   "outputs": []
  },
  {
   "cell_type": "code",
   "source": [
    "user_item_interactions = torch.stack([\n",
    "    torch.from_numpy(user_ix),\n",
    "    # Сдвинем индексы узлов треков во избежание коллизий с узлами пользователей.\n",
    "    torch.from_numpy(track_ix + NODE_LABEL_SHIFT)\n",
    "])\n",
    "\n",
    "item_user_interactions = torch.stack([\n",
    "    user_item_interactions[1, :],\n",
    "    user_item_interactions[0, :]\n",
    "])\n",
    "\n",
    "all_interactions = torch.cat([\n",
    "    user_item_interactions,\n",
    "    item_user_interactions\n",
    "], axis = 1).to(device)"
   ],
   "metadata": {
    "execution": {
     "iopub.status.busy": "2024-04-30T17:59:51.551687Z",
     "iopub.execute_input": "2024-04-30T17:59:51.552043Z",
     "iopub.status.idle": "2024-04-30T17:59:51.902903Z",
     "shell.execute_reply.started": "2024-04-30T17:59:51.552001Z",
     "shell.execute_reply": "2024-04-30T17:59:51.901837Z"
    },
    "trusted": true
   },
   "execution_count": 48,
   "outputs": []
  },
  {
   "cell_type": "markdown",
   "source": [
    "Класс NegativeSamplingDataset позволяет индексировать датасет. При обращении по индексу помимо положительного взаимодействия пользователь-трек (P) возвращается пара негативного взаимодействия пользователь-трек (N). Пара N генерируется и спользованием т.н. негативного семплирования. Негативное семплирование - это семейство стратегий для генерации негативных взаимодействий для обучения коллаборативных моделей на данных, в которых содержатся только позитивные взаимодействия."
   ],
   "metadata": {}
  },
  {
   "cell_type": "code",
   "source": [
    "SAMPLE_POSITIVE = 0\n",
    "SAMPLE_NEGATIVE = 1\n",
    "\n",
    "class NegativeSamplingDataset(td.Dataset):\n",
    "  def __init__(self, user_track_interactions, index_subset=None, transform=None):\n",
    "    # Подмножество индексов (для разбиения train / test)\n",
    "    self.index_subset = index_subset\n",
    "    # Все позитивные взаимодействия нашего датасета\n",
    "    self.positive_edges_full_batch = user_track_interactions\n",
    "    # Все негативные взаимодействия нашего датасета\n",
    "    self.negative_edges_full_batch = None\n",
    "\n",
    "    # Позитивные и негативные взаимодействия в срезе подмножества индексов\n",
    "    self.positive_edges_sample = None\n",
    "    self.negative_edges_sample = None\n",
    "\n",
    "    # Сохраниим все позитивные взаимодействия нашего датасета\n",
    "    self.init()\n",
    "\n",
    "  def generate_negative_sample(self):\n",
    "    # Сгенерируем негативные семплы. На каждого user в парах user -> item(+)\n",
    "    #   генерируется пара user -> item(-). Подробнее о работе метода можно почитать по ссылке.\n",
    "    # https://pytorch-geometric.readthedocs.io/en/latest/modules/utils.html#torch_geometric.utils.structured_negative_sampling\n",
    "    user_index, _, negative_item_index = \\\n",
    "      pyg_utils.structured_negative_sampling(self.positive_edges_full_batch, num_nodes=NUM_TRACKS)\n",
    "\n",
    "    self.negative_edges_full_batch = torch.stack([\n",
    "        user_index,\n",
    "        negative_item_index\n",
    "    ])\n",
    "\n",
    "  def init(self):\n",
    "    self.generate_negative_sample()\n",
    "\n",
    "    # Получим положительные и негативные взаимодействия в срезе индексов для разбиения train / test.\n",
    "    self.positive_edges_sample = self.positive_edges_full_batch[:, self.index_subset]\n",
    "    self.negative_edges_sample = self.negative_edges_full_batch[:, self.index_subset]\n",
    "\n",
    "  def __len__(self):\n",
    "    return self.positive_edges_sample.shape[1]\n",
    "\n",
    "  def __getitem__(self, idx):\n",
    "    return (\n",
    "        self.positive_edges_sample[:, idx],\n",
    "        self.negative_edges_sample[:, idx]\n",
    "    )\n",
    "\n",
    "# Функция для объединения данных в батч, используемая в DataLoader\n",
    "def collate_edges(edges: list) -> tuple:\n",
    "    positive_edges = [edge[SAMPLE_POSITIVE] for edge in edges]\n",
    "    negative_edges = [edge[SAMPLE_NEGATIVE] for edge in edges]\n",
    "\n",
    "    positive_edges = torch.stack(positive_edges).t()\n",
    "    negative_edges = torch.stack(negative_edges).t()\n",
    "\n",
    "    return positive_edges.to(device), negative_edges.to(device)\n",
    "\n",
    "train_ix, val_ix = train_test_split(np.arange(len(track_ix), dtype=np.int32), test_size=0.1)\n",
    "\n",
    "music_dataset_train = NegativeSamplingDataset(user_item_interactions, train_ix)\n",
    "music_dataset_val = NegativeSamplingDataset(user_item_interactions, val_ix)\n",
    "\n",
    "music_dataloader_train = td.DataLoader(music_dataset_train, batch_size=3000, collate_fn = collate_edges)\n",
    "music_dataloader_val = td.DataLoader(music_dataset_val, batch_size=3000, collate_fn = collate_edges)"
   ],
   "metadata": {
    "execution": {
     "iopub.status.busy": "2024-04-30T17:59:51.904351Z",
     "iopub.execute_input": "2024-04-30T17:59:51.904679Z",
     "iopub.status.idle": "2024-04-30T17:59:53.988750Z",
     "shell.execute_reply.started": "2024-04-30T17:59:51.904647Z",
     "shell.execute_reply": "2024-04-30T17:59:53.987677Z"
    },
    "trusted": true
   },
   "execution_count": 49,
   "outputs": []
  },
  {
   "cell_type": "markdown",
   "source": [
    "**Определяем полезные хуки**\n",
    "1. MetricTrackerHook - позволяет логировать метрики (в нашем случае - лосс) в конце каждой эпохи.\n",
    "2. DatasetReloaderHook - позволяет перегенерировать негативные семплы в конце каждой эпохи."
   ],
   "metadata": {}
  },
  {
   "cell_type": "code",
   "source": [
    "class MetricTrackerHook(pl.Callback):\n",
    "    def __init__(self):\n",
    "      self.collection = {\n",
    "          'train_loss': [],\n",
    "          'val_loss': []\n",
    "      }\n",
    "\n",
    "    def on_train_epoch_end(self, trainer: \"pl.Trainer\", pl_module: \"pl.LightningModule\"):\n",
    "      self.collection['train_loss'].append(trainer.logged_metrics['train_loss'].cpu().detach().numpy().item())\n",
    "\n",
    "    def on_validation_epoch_end(self, trainer: \"pl.Trainer\", pl_module: \"pl.LightningModule\"):\n",
    "      self.collection['val_loss'].append(trainer.logged_metrics['val_loss'].cpu().detach().numpy().item())\n",
    "\n",
    "\n",
    "class DatasetReloaderHook(pl.Callback):\n",
    "  def __init__(self, dataset: NegativeSamplingDataset):\n",
    "    self.dataset = dataset\n",
    "\n",
    "  def ok_train_epoch_start(self, trainer: \"pl.Trainer\", pl_module: \"pl.LightningModule\"):\n",
    "    self.dataset.init()"
   ],
   "metadata": {
    "execution": {
     "iopub.status.busy": "2024-04-30T17:59:53.989983Z",
     "iopub.execute_input": "2024-04-30T17:59:53.990398Z",
     "iopub.status.idle": "2024-04-30T17:59:53.998801Z",
     "shell.execute_reply.started": "2024-04-30T17:59:53.990368Z",
     "shell.execute_reply": "2024-04-30T17:59:53.997737Z"
    },
    "trusted": true
   },
   "execution_count": 50,
   "outputs": []
  },
  {
   "cell_type": "code",
   "source": [
    "NEGATIVE_SAMPLE_WEIGHT = config['NEGATIVE_SAMPLE_WEIGHT']\n",
    "\n",
    "class GraphCollaborativeModel(pl.LightningModule):\n",
    "    def __init__(self, all_adjacent_nodes, num_nodes: int, embedding_dim: int, num_layers: int):\n",
    "        super().__init__()\n",
    "        self.all_adjacent_nodes = all_adjacent_nodes\n",
    "        self.gnn = pyg_nn.LightGCN(num_nodes, embedding_dim, num_layers)\n",
    "\n",
    "    def compute_loss(self, user_item_positive, user_item_negative):\n",
    "        # В forward метод LightGCN подается матрица смежности в виде (node_i <-> node_j),\n",
    "        #  а также пары source_node -> dest_node (в нашем случае user -> track). Результатом forward пасса\n",
    "        #  является скалярное перемножение эмбеддов пользователя и трека, см. формулу.\n",
    "\n",
    "        pos_edge_ranking = self.gnn(self.all_adjacent_nodes, user_item_positive)\n",
    "        neg_edge_ranking = self.gnn(self.all_adjacent_nodes, user_item_negative)\n",
    "\n",
    "        return self.gnn.recommendation_loss(pos_edge_ranking, NEGATIVE_SAMPLE_WEIGHT * neg_edge_ranking)\n",
    "\n",
    "    def step(self, data, batch_idx, label):\n",
    "        user_item_positive, user_item_negative = data[0], data[1]\n",
    "\n",
    "        loss = self.compute_loss(user_item_positive, user_item_negative)\n",
    "        self.log(label, loss, prog_bar=True, on_step=False, on_epoch=True, batch_size=data[0].shape[1])\n",
    "        return loss\n",
    "\n",
    "    def training_step(self, data, batch_idx):\n",
    "        return self.step(data, batch_idx, \"train_loss\")\n",
    "\n",
    "    def validation_step(self, data, batch_idx):\n",
    "        self.step(data, batch_idx, \"val_loss\")\n",
    "\n",
    "    def configure_optimizers(self):\n",
    "        optimizer = torch.optim.Adam(self.parameters(), lr=1e-3)\n",
    "        lr_scheduler = torch.optim.lr_scheduler.ReduceLROnPlateau(optimizer, patience=3, verbose=True)\n",
    "        scheduler = {\n",
    "            'scheduler': lr_scheduler,\n",
    "            'reduce_on_plateau': True,\n",
    "            'monitor': 'val_loss'\n",
    "        }\n",
    "        return [optimizer], [scheduler]"
   ],
   "metadata": {
    "execution": {
     "iopub.status.busy": "2024-04-30T17:59:54.000277Z",
     "iopub.execute_input": "2024-04-30T17:59:54.000628Z",
     "iopub.status.idle": "2024-04-30T17:59:54.013055Z",
     "shell.execute_reply.started": "2024-04-30T17:59:54.000601Z",
     "shell.execute_reply": "2024-04-30T17:59:54.012159Z"
    },
    "trusted": true
   },
   "execution_count": 51,
   "outputs": []
  },
  {
   "cell_type": "code",
   "source": [
    "# Определяем модель\n",
    "MAX_EPOCHS = config['MAX_EPOCHS']\n",
    "EMBEDDING_DIM = config['EMBEDDING_DIM']\n",
    "NUM_LAYERS = config['NUM_LAYERS']\n",
    "model = GraphCollaborativeModel(all_interactions, NUM_NODES, EMBEDDING_DIM, NUM_LAYERS)"
   ],
   "metadata": {
    "execution": {
     "iopub.status.busy": "2024-04-30T17:59:54.014223Z",
     "iopub.execute_input": "2024-04-30T17:59:54.014575Z",
     "iopub.status.idle": "2024-04-30T17:59:54.146580Z",
     "shell.execute_reply.started": "2024-04-30T17:59:54.014550Z",
     "shell.execute_reply": "2024-04-30T17:59:54.145672Z"
    },
    "trusted": true
   },
   "execution_count": 52,
   "outputs": []
  },
  {
   "cell_type": "code",
   "source": [
    "# Определяем все нужные нам хуки\n",
    "checkpoint = pl.callbacks.ModelCheckpoint(monitor='val_loss', save_top_k=1)\n",
    "metric_tracker = MetricTrackerHook()\n",
    "dataset_reloader_train = DatasetReloaderHook(music_dataset_train)\n",
    "dataset_reloader_val = DatasetReloaderHook(music_dataset_val)\n",
    "\n",
    "# Запускаем обучатор PytorchLightning\n",
    "trainer = pl.Trainer(\n",
    "    accelerator='gpu',\n",
    "    devices=1,\n",
    "    max_epochs=MAX_EPOCHS,\n",
    "    callbacks=[\n",
    "        checkpoint,\n",
    "        metric_tracker,\n",
    "        dataset_reloader_train,\n",
    "        dataset_reloader_val\n",
    "    ],\n",
    "    enable_progress_bar=True,\n",
    ")"
   ],
   "metadata": {
    "execution": {
     "iopub.status.busy": "2024-04-30T17:59:54.147783Z",
     "iopub.execute_input": "2024-04-30T17:59:54.148142Z",
     "iopub.status.idle": "2024-04-30T17:59:54.772465Z",
     "shell.execute_reply.started": "2024-04-30T17:59:54.148109Z",
     "shell.execute_reply": "2024-04-30T17:59:54.771655Z"
    },
    "trusted": true
   },
   "execution_count": 53,
   "outputs": []
  },
  {
   "cell_type": "code",
   "source": [
    "#trainer.fit(model, music_dataloader_train, music_dataloader_val)"
   ],
   "metadata": {
    "execution": {
     "iopub.status.busy": "2024-04-30T17:59:54.773554Z",
     "iopub.execute_input": "2024-04-30T17:59:54.773816Z",
     "iopub.status.idle": "2024-04-30T17:59:54.778196Z",
     "shell.execute_reply.started": "2024-04-30T17:59:54.773792Z",
     "shell.execute_reply": "2024-04-30T17:59:54.777173Z"
    },
    "trusted": true
   },
   "execution_count": 54,
   "outputs": []
  },
  {
   "cell_type": "code",
   "source": [
    "#shutil.copy(checkpoint.best_model_path, f\"lightgcn.ckpt\")"
   ],
   "metadata": {
    "execution": {
     "iopub.status.busy": "2024-04-30T17:59:54.779288Z",
     "iopub.execute_input": "2024-04-30T17:59:54.779560Z",
     "iopub.status.idle": "2024-04-30T17:59:54.791189Z",
     "shell.execute_reply.started": "2024-04-30T17:59:54.779535Z",
     "shell.execute_reply": "2024-04-30T17:59:54.790173Z"
    },
    "trusted": true
   },
   "execution_count": 55,
   "outputs": []
  },
  {
   "cell_type": "code",
   "source": [
    "final_model = GraphCollaborativeModel.load_from_checkpoint(\n",
    "    config[\"CHECKPOINT_PATH\"],\n",
    "    all_adjacent_nodes=all_interactions,\n",
    "    num_nodes=NUM_USERS + NUM_TRACKS,\n",
    "    embedding_dim=EMBEDDING_DIM,\n",
    "    num_layers=NUM_LAYERS\n",
    ")"
   ],
   "metadata": {
    "execution": {
     "iopub.status.busy": "2024-04-30T17:59:54.792213Z",
     "iopub.execute_input": "2024-04-30T17:59:54.792461Z",
     "iopub.status.idle": "2024-04-30T17:59:55.749045Z",
     "shell.execute_reply.started": "2024-04-30T17:59:54.792439Z",
     "shell.execute_reply": "2024-04-30T17:59:55.748222Z"
    },
    "trusted": true
   },
   "execution_count": 56,
   "outputs": []
  },
  {
   "cell_type": "code",
   "source": [
    "all_embeddings = final_model.gnn.get_embedding(all_interactions.to('cuda'))\n",
    "\n",
    "user_embeddings = all_embeddings[:NUM_USERS].detach().cpu().numpy().astype('float32')\n",
    "item_embeddings = all_embeddings[NUM_USERS:].detach().cpu().numpy().astype('float32')"
   ],
   "metadata": {
    "execution": {
     "iopub.status.busy": "2024-04-30T17:59:55.750130Z",
     "iopub.execute_input": "2024-04-30T17:59:55.750440Z",
     "iopub.status.idle": "2024-04-30T17:59:56.545847Z",
     "shell.execute_reply.started": "2024-04-30T17:59:55.750414Z",
     "shell.execute_reply": "2024-04-30T17:59:56.544941Z"
    },
    "trusted": true
   },
   "execution_count": 57,
   "outputs": []
  },
  {
   "cell_type": "code",
   "source": [
    "track2idx = {}\n",
    "for i, track in enumerate(track_ids):\n",
    "    track2idx[track] = i"
   ],
   "metadata": {
    "execution": {
     "iopub.status.busy": "2024-04-30T17:59:56.546977Z",
     "iopub.execute_input": "2024-04-30T17:59:56.547270Z",
     "iopub.status.idle": "2024-04-30T17:59:56.563896Z",
     "shell.execute_reply.started": "2024-04-30T17:59:56.547246Z",
     "shell.execute_reply": "2024-04-30T17:59:56.563050Z"
    },
    "trusted": true
   },
   "execution_count": 58,
   "outputs": []
  },
  {
   "cell_type": "code",
   "source": [
    "user2idx = {}\n",
    "for i, user in enumerate(user_ids):\n",
    "    user2idx[user] = i"
   ],
   "metadata": {
    "execution": {
     "iopub.status.busy": "2024-04-30T17:59:56.564988Z",
     "iopub.execute_input": "2024-04-30T17:59:56.565313Z",
     "iopub.status.idle": "2024-04-30T17:59:56.583567Z",
     "shell.execute_reply.started": "2024-04-30T17:59:56.565278Z",
     "shell.execute_reply": "2024-04-30T17:59:56.582842Z"
    },
    "trusted": true
   },
   "execution_count": 59,
   "outputs": []
  },
  {
   "cell_type": "code",
   "source": [
    "import gc\n",
    "del train_ix, val_ix, music_dataset_train, music_dataset_val\n",
    "del user_item_interactions, all_interactions\n",
    "del item_user_interactions, positives, data_filt, data_filt_sorted\n",
    "gc.collect()"
   ],
   "metadata": {
    "execution": {
     "iopub.status.busy": "2024-04-30T17:59:56.584590Z",
     "iopub.execute_input": "2024-04-30T17:59:56.584848Z",
     "iopub.status.idle": "2024-04-30T17:59:57.097434Z",
     "shell.execute_reply.started": "2024-04-30T17:59:56.584825Z",
     "shell.execute_reply": "2024-04-30T17:59:57.096467Z"
    },
    "trusted": true
   },
   "execution_count": 60,
   "outputs": [
    {
     "execution_count": 60,
     "output_type": "execute_result",
     "data": {
      "text/plain": "41"
     },
     "metadata": {}
    }
   ]
  },
  {
   "cell_type": "markdown",
   "source": [
    "**The idea is to use user and item embeddings learnt from lightGCN to improve CatBoost predictions**"
   ],
   "metadata": {}
  },
  {
   "cell_type": "markdown",
   "source": [
    "Catboost has embedding_features support, however it is buggy and performs poorly, especially on GPU, so I will do it manually."
   ],
   "metadata": {}
  },
  {
   "cell_type": "code",
   "source": [
    "import gc\n",
    "\n",
    "EMB_ZERO = np.zeros(EMBEDDING_DIM)\n",
    "\n",
    "def get_emb_safe(embs, map_idx, item):\n",
    "    try:\n",
    "        key = map_idx[item]\n",
    "        return embs[key]\n",
    "    except KeyError:\n",
    "        return EMB_ZERO\n",
    "    \n",
    "    \n",
    "def build_embs(df):\n",
    "    \"\"\"\n",
    "    Extracts embeddings for users and items, if they are present.\n",
    "    Otherwise default embedding is returned.\n",
    "    \"\"\"\n",
    "    n = df.shape[0]\n",
    "    df_user_embs = np.zeros((n, EMBEDDING_DIM))\n",
    "    df_track_embs = np.zeros((n, EMBEDDING_DIM))\n",
    "    df_scores = np.zeros(n)\n",
    "    for i, (user, track) in tqdm.tqdm(enumerate(df[['user', 'track']].values.tolist())):\n",
    "        user_emb = get_emb_safe(user_embeddings, user2idx, user)\n",
    "        track_emb = get_emb_safe(item_embeddings, track2idx, track)\n",
    "        gcn_score = np.dot(user_emb, track_emb)\n",
    "        df_scores[i] = gcn_score\n",
    "        df_user_embs[i] = user_emb\n",
    "        df_track_embs[i] = track_emb\n",
    "    return df_user_embs, df_track_embs, df_scores\n",
    "\n",
    "\n",
    "def cast_types(df, cat=False):\n",
    "    \"\"\"\n",
    "    Helps with memory issues by boxing object features into categories\n",
    "    Also casts float64 to float32, assuming no precision loss happens.\n",
    "    \"\"\"\n",
    "    if cat:\n",
    "        df['user'] = df['user'].astype('category')\n",
    "        df['track'] = df['track'].astype('category')\n",
    "    df[df.select_dtypes(['float64']).columns] = \\\n",
    "        df.select_dtypes(['float64']).apply(lambda x: x.astype('float32'))\n",
    "    gc.collect()\n",
    "\n",
    "def add_embeddings(df):\n",
    "    \"\"\"\n",
    "    Builds user and track embeddings from given df, stores them in df_user and df_track dataframes.\n",
    "    Each embedding is split into EMBEDDING_DIM columns with names corresponding to their index.\n",
    "    \n",
    "    \"\"\"\n",
    "    df.rename(columns={\"msno\": \"user\", \"song_id\": \"track\"}, inplace=True)\n",
    "    cast_types(df, True)\n",
    "    \n",
    "    df_user_embs, df_track_embs, df_scores = build_embs(df)\n",
    "    \n",
    "    df_user = pd.DataFrame(np.vstack(df_user_embs))\n",
    "    cast_types(df_user)\n",
    "    \n",
    "    df_user.columns =[f'user_emb_{i}' for i in range(EMBEDDING_DIM)]\n",
    "    \n",
    "    df_track = pd.DataFrame(np.vstack(df_track_embs))\n",
    "    cast_types(df_track)\n",
    "    df_track.columns =[f'track_emb_{i}' for i in range(EMBEDDING_DIM)]\n",
    "    \n",
    "    df['score'] = df_scores\n",
    "    del df_scores, df_user_embs, df_track_embs\n",
    "    gc.collect()\n",
    "    \n",
    "    return  df, df_user, df_track"
   ],
   "metadata": {
    "execution": {
     "iopub.status.busy": "2024-04-30T18:07:13.740703Z",
     "iopub.execute_input": "2024-04-30T18:07:13.741451Z",
     "iopub.status.idle": "2024-04-30T18:07:13.755234Z",
     "shell.execute_reply.started": "2024-04-30T18:07:13.741415Z",
     "shell.execute_reply": "2024-04-30T18:07:13.754268Z"
    },
    "trusted": true
   },
   "execution_count": 76,
   "outputs": []
  },
  {
   "cell_type": "code",
   "source": [
    "train_df_final, dfu, dft = add_embeddings(train_df_proc)\n",
    "del train_df_proc\n",
    "gc.collect()"
   ],
   "metadata": {
    "execution": {
     "iopub.status.busy": "2024-04-30T18:36:18.747972Z",
     "iopub.execute_input": "2024-04-30T18:36:18.748824Z",
     "iopub.status.idle": "2024-04-30T18:36:19.540313Z",
     "shell.execute_reply.started": "2024-04-30T18:36:18.748790Z",
     "shell.execute_reply": "2024-04-30T18:36:19.539087Z"
    },
    "trusted": true
   },
   "execution_count": 110,
   "outputs": [
    {
     "execution_count": 110,
     "output_type": "execute_result",
     "data": {
      "text/plain": "75812"
     },
     "metadata": {}
    }
   ]
  },
  {
   "cell_type": "markdown",
   "source": [
    "Since train set is large, 0.15 is enough for validation purposes.\n",
    "\n",
    "Splitting indices is way cheaper memory-wise"
   ],
   "metadata": {}
  },
  {
   "cell_type": "markdown",
   "source": [
    "# Parameter tuning"
   ],
   "metadata": {}
  },
  {
   "cell_type": "code",
   "source": [
    "train_ix, val_ix = train_test_split(np.arange(len(train_df_final),\n",
    "                                              dtype=np.int32), test_size=0.15,\n",
    "                                   stratify=train_df_final['target'],\n",
    "                                   random_state=42)\n",
    "\n",
    "train_ix, test_ix = train_test_split(np.arange(len(train_ix),\n",
    "                                              dtype=np.int32), test_size=0.15,\n",
    "                                   stratify=train_df_final['target'].iloc[train_ix],\n",
    "                                    random_state=42)\n",
    "\n",
    "\n",
    "X_cols = train_df_final.columns.drop(['target', 'user', 'track'])\n",
    "y_col = 'target'"
   ],
   "metadata": {
    "execution": {
     "iopub.status.busy": "2024-04-30T18:50:39.433198Z",
     "iopub.execute_input": "2024-04-30T18:50:39.433559Z",
     "iopub.status.idle": "2024-04-30T18:50:44.522326Z",
     "shell.execute_reply.started": "2024-04-30T18:50:39.433533Z",
     "shell.execute_reply": "2024-04-30T18:50:44.521344Z"
    },
    "trusted": true
   },
   "execution_count": 131,
   "outputs": []
  },
  {
   "cell_type": "code",
   "source": [
    "val_df = train_df_final.iloc[val_ix].copy()\n",
    "val_df['group_id'] = val_df.groupby('user', observed=True).ngroup()\n",
    "val_df = val_df.drop(['user', 'track'], axis=1)"
   ],
   "metadata": {
    "execution": {
     "iopub.status.busy": "2024-04-30T18:50:44.524238Z",
     "iopub.execute_input": "2024-04-30T18:50:44.524583Z",
     "iopub.status.idle": "2024-04-30T18:50:46.054149Z",
     "shell.execute_reply.started": "2024-04-30T18:50:44.524555Z",
     "shell.execute_reply": "2024-04-30T18:50:46.053070Z"
    },
    "trusted": true
   },
   "execution_count": 132,
   "outputs": []
  },
  {
   "cell_type": "code",
   "source": [
    "test_df = train_df_final.iloc[test_ix].copy()\n",
    "test_df['group_id'] = test_df.groupby('user', observed=True).ngroup()\n",
    "test_df = test_df.drop(['user', 'track'], axis=1)"
   ],
   "metadata": {
    "execution": {
     "iopub.status.busy": "2024-04-30T18:50:46.055399Z",
     "iopub.execute_input": "2024-04-30T18:50:46.055780Z",
     "iopub.status.idle": "2024-04-30T18:50:47.269477Z",
     "shell.execute_reply.started": "2024-04-30T18:50:46.055747Z",
     "shell.execute_reply": "2024-04-30T18:50:47.268588Z"
    },
    "trusted": true
   },
   "execution_count": 133,
   "outputs": []
  },
  {
   "cell_type": "markdown",
   "source": [
    "**Normally for ranking tasks I would use CatBoostRanker, however in this case the task is closer to CTR prediction and can be treated as Binary Classification problem.**\n",
    "\n",
    "This way we do not have to assign and split by groups until metric calculations."
   ],
   "metadata": {}
  },
  {
   "cell_type": "code",
   "source": [
    "from catboost import CatBoostClassifier, Pool\n",
    "\n",
    "train_pool = Pool(\n",
    "    data=train_df_final[X_cols].iloc[train_ix],\n",
    "    label=train_df_final[y_col].iloc[train_ix]\n",
    ")\n",
    "\n",
    "val_pool = Pool(\n",
    "    data=train_df_final[X_cols].iloc[val_ix],\n",
    "    label=train_df_final[y_col].iloc[val_ix]\n",
    ")\n"
   ],
   "metadata": {
    "execution": {
     "iopub.status.busy": "2024-04-30T18:50:47.272331Z",
     "iopub.execute_input": "2024-04-30T18:50:47.273040Z",
     "iopub.status.idle": "2024-04-30T18:50:54.845595Z",
     "shell.execute_reply.started": "2024-04-30T18:50:47.272984Z",
     "shell.execute_reply": "2024-04-30T18:50:54.844754Z"
    },
    "trusted": true
   },
   "execution_count": 134,
   "outputs": []
  },
  {
   "cell_type": "markdown",
   "source": [
    "Training on GPU is less accurate but way faster. \n",
    "\n",
    "This will allow me to tune hyperparameters, which in turn will equalize cpu and gpu in terms of quality and might improve the results."
   ],
   "metadata": {}
  },
  {
   "cell_type": "code",
   "source": [
    "best_params = {\n",
    "    'iterations': 3000,\n",
    "    'verbose': 300,\n",
    "    'random_seed': 42,\n",
    "    \"use_best_model\":True,\n",
    "    \"random_strength\":3,\n",
    "    \"max_depth\": 15,\n",
    "    'l2_leaf_reg': 2.5835,\n",
    "    'early_stopping_rounds': 300,\n",
    "    'task_type': \"GPU\",\n",
    "    'devices': '0'\n",
    "}"
   ],
   "metadata": {
    "execution": {
     "iopub.status.busy": "2024-04-30T19:36:22.519996Z",
     "iopub.execute_input": "2024-04-30T19:36:22.520952Z",
     "iopub.status.idle": "2024-04-30T19:36:22.525888Z",
     "shell.execute_reply.started": "2024-04-30T19:36:22.520919Z",
     "shell.execute_reply": "2024-04-30T19:36:22.524867Z"
    },
    "trusted": true
   },
   "execution_count": 178,
   "outputs": []
  },
  {
   "cell_type": "code",
   "source": [
    "from sklearn.metrics import ndcg_score\n",
    "\n",
    "def get_val_ndcg(df, ix, preds):\n",
    "    \"\"\"\n",
    "    Calculates average NDCG@20 for all groups in given df\n",
    "    \"\"\"\n",
    "    df = df.copy()\n",
    "    df['preds'] = preds\n",
    "    df['target'] = train_df_final.iloc[ix]['target']\n",
    "    grouped = df.groupby('group_id')\n",
    "    ndcgs = []\n",
    "    for name, group in grouped:\n",
    "        y_pred = group['preds'].values.reshape(1, -1)\n",
    "        y_true = group['target'].values.reshape(1, -1)\n",
    "        if y_pred.shape[1] == 1:\n",
    "            continue\n",
    "        ndcgs.append(ndcg_score(y_true, y_pred, k=20))\n",
    "    return np.array(ndcgs).mean()"
   ],
   "metadata": {
    "execution": {
     "iopub.status.busy": "2024-04-30T19:36:22.666609Z",
     "iopub.execute_input": "2024-04-30T19:36:22.666944Z",
     "iopub.status.idle": "2024-04-30T19:36:22.674221Z",
     "shell.execute_reply.started": "2024-04-30T19:36:22.666915Z",
     "shell.execute_reply": "2024-04-30T19:36:22.673207Z"
    },
    "trusted": true
   },
   "execution_count": 179,
   "outputs": []
  },
  {
   "cell_type": "markdown",
   "source": [
    "**В качестве loss функции будут Logloss, что в нашем случае совпадает с CrossEntropy, она бинарная**\n"
   ],
   "metadata": {}
  },
  {
   "cell_type": "code",
   "source": [
    "import optuna\n",
    "\n",
    "def objective(trial):\n",
    "\n",
    "    param = {\n",
    "        \"l2_leaf_reg\": trial.suggest_float(\"l2_leaf_reg\", 1.0, 5.0, log=True),\n",
    "        \"max_depth\": trial.suggest_int(\"max_depth\", 6, 15),\n",
    "        \"iterations\": 500\n",
    "    }\n",
    "    cp = best_params.copy()\n",
    "    cp.update(param)\n",
    "    model = CatBoostClassifier(**cp)\n",
    "\n",
    "    model.fit(train_pool, eval_set=val_pool, use_best_model=True, verbose=False)\n",
    "\n",
    "    preds = model.predict(val_df)\n",
    "\n",
    "\n",
    "    return get_val_ndcg(val_df, val_ix, preds)"
   ],
   "metadata": {
    "execution": {
     "iopub.status.busy": "2024-04-30T19:36:22.974688Z",
     "iopub.execute_input": "2024-04-30T19:36:22.974986Z",
     "iopub.status.idle": "2024-04-30T19:36:22.982884Z",
     "shell.execute_reply.started": "2024-04-30T19:36:22.974959Z",
     "shell.execute_reply": "2024-04-30T19:36:22.982061Z"
    },
    "trusted": true
   },
   "execution_count": 180,
   "outputs": []
  },
  {
   "cell_type": "code",
   "source": [
    "# study = optuna.create_study(direction='maximize')\n",
    "# study.optimize(objective, n_trials=100)\n",
    "# print('Number of finished trials:', len(study.trials))\n",
    "# print('Best trial:', study.best_trial.params)\n",
    "# print('Best value:', study.best_trial.value)"
   ],
   "metadata": {
    "execution": {
     "iopub.status.busy": "2024-04-30T19:36:23.120962Z",
     "iopub.execute_input": "2024-04-30T19:36:23.121283Z",
     "iopub.status.idle": "2024-04-30T19:36:23.126038Z",
     "shell.execute_reply.started": "2024-04-30T19:36:23.121255Z",
     "shell.execute_reply": "2024-04-30T19:36:23.125070Z"
    },
    "trusted": true
   },
   "execution_count": 181,
   "outputs": []
  },
  {
   "cell_type": "code",
   "source": [
    "final_params = best_params.copy()\n",
    "#final_params.update(study.best_trial.params)\n",
    "model = CatBoostClassifier(**final_params)\n",
    "model.fit(train_pool, eval_set=val_pool, use_best_model=True)"
   ],
   "metadata": {
    "execution": {
     "iopub.status.busy": "2024-04-30T19:36:23.286315Z",
     "iopub.execute_input": "2024-04-30T19:36:23.286997Z"
    },
    "trusted": true
   },
   "execution_count": null,
   "outputs": [
    {
     "name": "stderr",
     "text": "Warning: less than 75% gpu memory available for training. Free: 11044.125 Total: 16276.25\n",
     "output_type": "stream"
    },
    {
     "name": "stdout",
     "text": "0:\tlearn: 0.6884092\ttest: 0.6885966\tbest: 0.6885966 (0)\ttotal: 609ms\tremaining: 30m 27s\n300:\tlearn: 0.5932489\ttest: 0.6011977\tbest: 0.6011977 (300)\ttotal: 3m 2s\tremaining: 27m 19s\n600:\tlearn: 0.5765171\ttest: 0.5870851\tbest: 0.5870851 (600)\ttotal: 6m 7s\tremaining: 24m 25s\n900:\tlearn: 0.5606985\ttest: 0.5741321\tbest: 0.5741321 (900)\ttotal: 9m 11s\tremaining: 21m 25s\n1200:\tlearn: 0.5483942\ttest: 0.5643470\tbest: 0.5643470 (1200)\ttotal: 12m 17s\tremaining: 18m 24s\n1500:\tlearn: 0.5376275\ttest: 0.5559553\tbest: 0.5559553 (1500)\ttotal: 15m 22s\tremaining: 15m 21s\n1800:\tlearn: 0.5282009\ttest: 0.5487186\tbest: 0.5487186 (1800)\ttotal: 18m 27s\tremaining: 12m 17s\n2100:\tlearn: 0.5194544\ttest: 0.5421040\tbest: 0.5421040 (2100)\ttotal: 21m 33s\tremaining: 9m 13s\n",
     "output_type": "stream"
    }
   ]
  },
  {
   "cell_type": "code",
   "source": [
    "val_preds = model.predict(val_df)\n",
    "test_preds = model.predict(test_df)\n",
    "val_ndcg = get_val_ndcg(val_df, val_ix, val_preds)\n",
    "test_ndcg = get_val_ndcg(test_df, test_ix, test_preds)"
   ],
   "metadata": {
    "trusted": true
   },
   "execution_count": null,
   "outputs": []
  },
  {
   "cell_type": "code",
   "source": [
    "print(f'Validation NDCG@20: {val_ndcg}')\n",
    "print(f'Test NDCG@20: {test_ndcg}')"
   ],
   "metadata": {
    "trusted": true
   },
   "execution_count": null,
   "outputs": []
  },
  {
   "cell_type": "markdown",
   "source": [
    "**Let's also look at classification metrics**"
   ],
   "metadata": {}
  },
  {
   "cell_type": "code",
   "source": [
    "import matplotlib.pyplot as plt\n",
    "\n",
    "plt.figure(figsize=(10,7))\n",
    "plt.plot(model.evals_result_[\"learn\"][\"Logloss\"], label=\"Training Logloss\")\n",
    "\n",
    "plt.axvline(x = model.best_iteration_, color = 'r', label = 'model cutoff')\n",
    "\n",
    "plt.plot(model.evals_result_[\"validation\"]['Logloss'], label=\"Validation Logloss\")\n",
    "plt.xlabel(\"Number of trees (iterations)\")\n",
    "plt.ylabel(\"Value\")\n",
    "plt.legend()"
   ],
   "metadata": {
    "trusted": true
   },
   "execution_count": null,
   "outputs": []
  },
  {
   "cell_type": "code",
   "source": [
    "from sklearn.metrics import classification_report\n",
    "\n",
    "y_test = train_df_final.iloc[test_ix]['target']\n",
    "print(classification_report(test_preds, y_test))"
   ],
   "metadata": {
    "trusted": true
   },
   "execution_count": null,
   "outputs": []
  },
  {
   "cell_type": "markdown",
   "source": [
    "# Possible Improvements\n",
    "1. Train a neural network using LightGCN embeddings (or ALS)\n",
    "  Architecture is similar to [this](https://github.com/lystdo/Codes-for-WSDM-CUP-Music-Rec-1st-place-solution/blob/master/nn_structure.pdf)\n",
    "2. Try stacking using trained NN, CatBoost and LightGCN\n",
    "3. Try weighted predictions (e.g. 0.6 * CatBoost + 0.4 * LightGCN).\n",
    "4. Training LightGCN with more layers / for more epochs to get better embeddings, find better CatBoost parameters"
   ],
   "metadata": {}
  }
 ]
}
